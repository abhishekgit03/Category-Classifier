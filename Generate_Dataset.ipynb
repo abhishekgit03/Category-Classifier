{
  "cells": [
    {
      "cell_type": "code",
      "execution_count": null,
      "metadata": {
        "id": "cRX1UVhWxGD-"
      },
      "outputs": [],
      "source": [
        "!pip install -q -U google-generativeai"
      ]
    },
    {
      "cell_type": "code",
      "execution_count": null,
      "metadata": {
        "id": "1QHMbAZ6ya3Q"
      },
      "outputs": [],
      "source": [
        "import google.generativeai as genai\n",
        "\n",
        "genai.configure(api_key=\"\")"
      ]
    },
    {
      "cell_type": "code",
      "execution_count": null,
      "metadata": {
        "id": "wMCCw6Zcynqg"
      },
      "outputs": [],
      "source": [
        "model = genai.GenerativeModel(\"gemini-1.5-flash\",generation_config={\"response_mime_type\": \"application/json\"})"
      ]
    },
    {
      "cell_type": "code",
      "execution_count": null,
      "metadata": {
        "id": "UKD0hw0H2Pca"
      },
      "outputs": [],
      "source": [
        "categories= [\n",
        "    \"Communication (Chatbots and Virtual Assistants, Conversation, Mental health)\",\n",
        "    \"Visual Art (Image Generation, Video Generation)\",\n",
        "    \"Music and Audio (Music Creation, Speech Generation, Podcast Content Creation)\",\n",
        "    \"Writing and Content Creation (Blog Writing, Podcasts, Storytelling and Narrative Creation)\",\n",
        "    \"Marketing and Advertising (Social Media Posts, Product Descriptions, SEO Optimization, Market Analysis)\",\n",
        "    \"Translation and Localization (Translation)\",\n",
        "    \"Programming and Development (Coding and Programming Assistance, API Integration)\",\n",
        "    \"Data and Analytics (Data Analysis, Financial Report Generation)\",\n",
        "    \"Education and Training (Educational Content Creation, Language Learning Assistance)\",\n",
        "    \"Business and Productivity (Presentation Creation, Email Generation)\",\n",
        "    \"Legal and Professional Services (Legal Document Drafting, Contract Generation)\",\n",
        "    \"Health and Wellness (Recipe Generation, Fitness and Health Plans Recommendations)\",\n",
        "    \"Homework (Homework Solutions, AI content detection)\",\n",
        "    \"Design (Branding and Logo Design, Presentation Creation)\",\n",
        "    \"Travel and Hospitality (Travel Itinerary Creation, Event Planning)\",\n",
        "    \"Retail and E-commerce (Product Descriptions, Personalized Recommendations)\",\n",
        "    \"Human Resources (Resume and Cover Letter Writing, Job Description Creation)\",\n",
        "    \"Science and Research (Research Paper Data, Summarisations)\",\n",
        "    \"Media and Journalism (News Article Generation, Content Summarization)\",\n",
        "    \"Others (Route to a general LLM for any other queries)\"\n",
        "]\n"
      ]
    },
    {
      "cell_type": "code",
      "execution_count": null,
      "metadata": {
        "colab": {
          "base_uri": "https://localhost:8080/",
          "height": 165
        },
        "id": "pZbLTmVayr4w",
        "outputId": "86f5c2d1-b810-4c2f-80bb-85d850aaddc8"
      },
      "outputs": [
        {
          "name": "stdout",
          "output_type": "stream",
          "text": [
            "{\"user_queries\": [\"Can you summarize the key findings of the research paper on the effects of climate change on coral reefs?\", \"I need a dataset of research papers on the development of renewable energy technologies.\", \"What are the latest research papers on the impact of social media on mental health?\", \"Find me a research paper that investigates the effectiveness of different cancer treatment methods.\", \"Summarize the research paper titled 'The impact of artificial intelligence on the job market'\"]}\n",
            "\n",
            "{\"user_queries\": [\"Generate a news article about the recent earthquake in Turkey.\", \"Summarize the key points of the latest IPCC report on climate change.\", \"Create a news article about the upcoming presidential election in the United States.\", \"Write a short summary of the latest developments in the war in Ukraine.\", \"Can you create a news story about the latest advancements in artificial intelligence?\"]}\n",
            "\n",
            "{\"user_queries\": [\"Can you write a haiku about the ocean?\", \"What is the meaning of life?\", \"Tell me a joke.\", \"What is the capital of France?\", \"Explain the concept of quantum entanglement in simple terms.\"]}\n",
            "\n",
            "[['Can you summarize the key findings of the research paper on the effects of climate change on coral reefs?', 'I need a dataset of research papers on the development of renewable energy technologies.', 'What are the latest research papers on the impact of social media on mental health?', 'Find me a research paper that investigates the effectiveness of different cancer treatment methods.', \"Summarize the research paper titled 'The impact of artificial intelligence on the job market'\"], ['Generate a news article about the recent earthquake in Turkey.', 'Summarize the key points of the latest IPCC report on climate change.', 'Create a news article about the upcoming presidential election in the United States.', 'Write a short summary of the latest developments in the war in Ukraine.', 'Can you create a news story about the latest advancements in artificial intelligence?'], ['Can you write a haiku about the ocean?', 'What is the meaning of life?', 'Tell me a joke.', 'What is the capital of France?', 'Explain the concept of quantum entanglement in simple terms.']]\n"
          ]
        }
      ],
      "source": [
        "import json\n",
        "li=[]\n",
        "for i in categories:\n",
        "  prompt = f\"\"\"Your task is to generate dataset for building a Prompt Classification Model. The objective of building this model is to classify the category of a user query out of a set of predefined categories.\n",
        "You need to generate a dataset of 5 unique examples(user queries) on the given category.\n",
        "\n",
        "Category:{i}\n",
        "\n",
        "Strictly return this JSON schema:\n",
        "Dataset = {{\"user_queries\": list}}\n",
        "\"\"\"\n",
        "  raw_response = model.generate_content(prompt)\n",
        "  print(raw_response.text)\n",
        "  json_response=json.loads(raw_response.text)\n",
        "  li.append(json_response[\"user_queries\"])\n",
        "print(li)"
      ]
    },
    {
      "cell_type": "code",
      "execution_count": null,
      "metadata": {
        "colab": {
          "background_save": true,
          "base_uri": "https://localhost:8080/"
        },
        "id": "WPX5GfJt1Sr7",
        "outputId": "b4fa04a4-86eb-4eed-f7f3-31cc6efc4817"
      },
      "outputs": [
        {
          "name": "stdout",
          "output_type": "stream",
          "text": [
            "{'user_queries': ['Can you write a haiku about the ocean?', 'What is the meaning of life?', 'Tell me a joke.', 'What is the capital of France?', 'Explain the concept of quantum entanglement in simple terms.']}\n",
            "Data written to user_queries.csv\n"
          ]
        }
      ],
      "source": [
        "import csv\n",
        "import json\n",
        "filename = \"user_queries.csv\"\n",
        "user_queries=json.loads(raw_response.text)\n",
        "print(user_queries)\n",
        "with open(filename, mode='w', newline='') as file:\n",
        "    writer = csv.writer(file)\n",
        "    writer.writerow([\"Query\",\"Category\"])\n",
        "    for i in range(len(li)):\n",
        "      category=categories[i]\n",
        "      for query in li[i]:\n",
        "        writer.writerow([query,category])\n",
        "\n",
        "print(f\"Data written to {filename}\")"
      ]
    }
  ],
  "metadata": {
    "colab": {
      "provenance": []
    },
    "kernelspec": {
      "display_name": "Python 3",
      "name": "python3"
    },
    "language_info": {
      "name": "python"
    }
  },
  "nbformat": 4,
  "nbformat_minor": 0
}