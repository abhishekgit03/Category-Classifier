{
  "nbformat": 4,
  "nbformat_minor": 0,
  "metadata": {
    "colab": {
      "provenance": []
    },
    "kernelspec": {
      "name": "python3",
      "display_name": "Python 3"
    },
    "language_info": {
      "name": "python"
    }
  },
  "cells": [
    {
      "cell_type": "code",
      "execution_count": null,
      "metadata": {
        "id": "gtZ0zqwnUZ36"
      },
      "outputs": [],
      "source": [
        "!pip install -q -U google-generativeai"
      ]
    },
    {
      "cell_type": "code",
      "source": [
        "from google.colab import userdata\n",
        "import google.generativeai as genai\n",
        "\n",
        "genai.configure(api_key=\"\")"
      ],
      "metadata": {
        "id": "zzT0MZmdUmDf"
      },
      "execution_count": null,
      "outputs": []
    },
    {
      "cell_type": "code",
      "source": [
        "system_prompt = \"\"\"You are an AI classifier. Your task is to categorize a given user query into one of the predefined classes listed below. Carefully read the query and determine the most appropriate class based on the content and intent of the query. Choose the class that best matches the query.\n",
        "\n",
        "Predefined Classes:\n",
        "Communication (Chatbots and Virtual Assistants, Conversation, Mental health)\n",
        "Visual Art (Image Generation, Video Generation)\n",
        "Music and Audio (Music Creation, Speech Generation, Podcast Content Creation)\n",
        "Writing and Content Creation (Blog Writing, Podcasts, Storytelling and Narrative Creation)\n",
        "Marketing and Advertising (Social Media Posts, Product Descriptions, SEO Optimization, Market Analysis)\n",
        "Translation and Localization (Translation)\n",
        "Programming and Development (Coding and Programming Assistance, API Integration)\n",
        "Data and Analytics (Data Analysis, Financial Report Generation)\n",
        "Education and Training (Educational Content Creation, Language Learning Assistance)\n",
        "Business and Productivity (Presentation Creation, Email Generation)\n",
        "Legal and Professional Services (Legal Document Drafting, Contract Generation)\n",
        "Health and Wellness (Recipe Generation, Fitness and Health Plans Recommendations)\n",
        "Homework (Homework Solutions, AI content detection)\n",
        "Design (Branding and Logo Design, Presentation Creation)\n",
        "Travel and Hospitality (Travel Itinerary Creation, Event Planning)\n",
        "Retail and E-commerce (Product Descriptions, Personalized Recommendations)\n",
        "Human Resources (Resume and Cover Letter Writing, Job Description Creation)\n",
        "Science and Research (Research Paper Data, Summarizations)\n",
        "Media and Journalism (News Article Generation, Content Summarization)\n",
        "Others (Route to a general LLM for any other queries)\n",
        "\n",
        "Examples:\n",
        "\n",
        "Query: \"Can you help me find a chatbot that specializes in mental health?\"\n",
        "Class: Communication\n",
        "\n",
        "Query: \"Create a short animated video of a dog chasing a cat.\"\n",
        "Class: Visual Art\n",
        "\n",
        "Strictly return class name only.\n",
        "\"\"\"\n"
      ],
      "metadata": {
        "id": "Kmeh_GCYVAdF"
      },
      "execution_count": null,
      "outputs": []
    },
    {
      "cell_type": "code",
      "source": [
        "model = genai.GenerativeModel(\n",
        "    \"gemini-1.5-flash\",\n",
        "    system_instruction=system_prompt\n",
        ")"
      ],
      "metadata": {
        "id": "Rar5O_1HU-ge"
      },
      "execution_count": null,
      "outputs": []
    },
    {
      "cell_type": "code",
      "source": [
        "raw_response = model.generate_content(\"I need help in designing my company logo\")\n",
        "print(raw_response.text)"
      ],
      "metadata": {
        "colab": {
          "base_uri": "https://localhost:8080/",
          "height": 53
        },
        "id": "H7hXXWVdUod0",
        "outputId": "d91867a7-859b-4433-f9b3-7118f67225d1"
      },
      "execution_count": null,
      "outputs": [
        {
          "output_type": "stream",
          "name": "stdout",
          "text": [
            "Design \n",
            "\n"
          ]
        }
      ]
    },
    {
      "cell_type": "code",
      "source": [
        "raw_response = model.generate_content('Write a short summary of the latest developments in the war in Ukraine.')\n",
        "print(raw_response.text)"
      ],
      "metadata": {
        "colab": {
          "base_uri": "https://localhost:8080/",
          "height": 53
        },
        "id": "_HhpgqIaWBul",
        "outputId": "84fcc406-75f3-402c-ad67-fb50cdaa5857"
      },
      "execution_count": null,
      "outputs": [
        {
          "output_type": "stream",
          "name": "stdout",
          "text": [
            "Media and Journalism \n",
            "\n"
          ]
        }
      ]
    },
    {
      "cell_type": "code",
      "source": [
        "raw_response = model.generate_content('How to convert text to speech for my audio book?')\n",
        "print(raw_response.text)"
      ],
      "metadata": {
        "colab": {
          "base_uri": "https://localhost:8080/",
          "height": 53
        },
        "id": "xtcDmKv1WCxF",
        "outputId": "37676799-fcd2-4329-e708-b3f08e56fe93"
      },
      "execution_count": null,
      "outputs": [
        {
          "output_type": "stream",
          "name": "stdout",
          "text": [
            "Music and Audio \n",
            "\n"
          ]
        }
      ]
    },
    {
      "cell_type": "code",
      "source": [
        "raw_response = model.generate_content('I need help integrating the Stripe API into my Node.js application.')\n",
        "print(raw_response.text)"
      ],
      "metadata": {
        "colab": {
          "base_uri": "https://localhost:8080/",
          "height": 53
        },
        "id": "pxZt-vWDWI80",
        "outputId": "cc228334-9bee-4017-f826-6efc737abd06"
      },
      "execution_count": null,
      "outputs": [
        {
          "output_type": "stream",
          "name": "stdout",
          "text": [
            "Programming and Development \n",
            "\n"
          ]
        }
      ]
    },
    {
      "cell_type": "code",
      "source": [
        "raw_response = model.generate_content('Can you help me generate a lease agreement for my apartment?')\n",
        "print(raw_response.text)"
      ],
      "metadata": {
        "colab": {
          "base_uri": "https://localhost:8080/",
          "height": 53
        },
        "id": "qyIDaHLqWQHn",
        "outputId": "e13b21f4-4c65-498a-dd81-8663d06dd989"
      },
      "execution_count": null,
      "outputs": [
        {
          "output_type": "stream",
          "name": "stdout",
          "text": [
            "Legal and Professional Services \n",
            "\n"
          ]
        }
      ]
    },
    {
      "cell_type": "code",
      "source": [
        "raw_response = model.generate_content('Generate an email to potential investors outlining our business plan.')\n",
        "print(raw_response.text)"
      ],
      "metadata": {
        "colab": {
          "base_uri": "https://localhost:8080/",
          "height": 53
        },
        "id": "3I3B83lFWQZ-",
        "outputId": "49385290-8f4d-4017-ebed-978f45874ccd"
      },
      "execution_count": null,
      "outputs": [
        {
          "output_type": "stream",
          "name": "stdout",
          "text": [
            "Business and Productivity \n",
            "\n"
          ]
        }
      ]
    }
  ]
}