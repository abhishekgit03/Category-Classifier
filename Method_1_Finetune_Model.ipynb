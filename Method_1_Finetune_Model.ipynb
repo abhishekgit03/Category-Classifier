{
  "cells": [
    {
      "cell_type": "code",
      "execution_count": null,
      "metadata": {
        "id": "9FUwyB_MJ0-2"
      },
      "outputs": [],
      "source": [
        "import os\n",
        "if 'COLAB_RELEASE_TAG' in os.environ:\n",
        "  from google.colab import userdata\n",
        "  import pathlib\n",
        "  pathlib.Path('client_secret.json').write_text(userdata.get('CLIENT_SECRET'))\n",
        "\n",
        "  # Use `--no-browser` in colab\n",
        "  !gcloud auth application-default login --no-browser --client-id-file client_secret.json --scopes='https://www.googleapis.com/auth/cloud-platform,https://www.googleapis.com/auth/generative-language.tuning'\n",
        "else:\n",
        "  !gcloud auth application-default login --client-id-file client_secret.json --scopes='https://www.googleapis.com/auth/cloud-platform,https://www.googleapis.com/auth/generative-language.tuning'"
      ]
    },
    {
      "cell_type": "code",
      "execution_count": null,
      "metadata": {
        "id": "cbcf72bcb56d"
      },
      "outputs": [],
      "source": [
        "!pip install -q google-generativeai"
      ]
    },
    {
      "cell_type": "markdown",
      "metadata": {
        "id": "jdIYSl2kN0cq"
      },
      "source": [
        "### Import libraries"
      ]
    },
    {
      "cell_type": "code",
      "execution_count": null,
      "metadata": {
        "id": "8enrppafJPCX"
      },
      "outputs": [],
      "source": [
        "import google.generativeai as genai"
      ]
    },
    {
      "cell_type": "code",
      "execution_count": null,
      "metadata": {
        "id": "XyWzoYFxU4r6",
        "outputId": "ebefee7c-ba2d-4050-dcd6-d7a6ee29707e",
        "colab": {
          "base_uri": "https://localhost:8080/"
        }
      },
      "outputs": [
        {
          "output_type": "stream",
          "name": "stdout",
          "text": [
            "tunedModels/generate-num-5306\n",
            "tunedModels/categoryclassifier31072024\n"
          ]
        }
      ],
      "source": [
        "for i, m in zip(range(5), genai.list_tuned_models()):\n",
        "  print(m.name)"
      ]
    },
    {
      "cell_type": "markdown",
      "source": [
        "## Dataset Formatting"
      ],
      "metadata": {
        "id": "6N74r1IgBdjB"
      }
    },
    {
      "cell_type": "code",
      "source": [
        "import csv\n",
        "\n",
        "filename = \"Training Dataset.csv\"\n",
        "training_data = []\n",
        "\n",
        "with open(filename, mode='r', newline='') as file:\n",
        "    reader = csv.DictReader(file)\n",
        "\n",
        "    for row in reader:\n",
        "        training_data.append({\n",
        "            'text_input': row['Query'],\n",
        "            'output': row['Category'].strip()\n",
        "        })\n",
        "\n",
        "print(training_data)\n"
      ],
      "metadata": {
        "colab": {
          "base_uri": "https://localhost:8080/"
        },
        "id": "o69K67-aBhlY",
        "outputId": "5fc93fd7-93ce-4068-d72a-750013d82064"
      },
      "execution_count": null,
      "outputs": [
        {
          "output_type": "stream",
          "name": "stdout",
          "text": [
            "[{'text_input': 'Can you help me write a message to my friend?', 'output': 'Communication'}, {'text_input': \"I'm feeling really stressed, can you give me some tips on how to manage my anxiety?\", 'output': 'Communication'}, {'text_input': 'What are some good chatbot platforms for customer service?', 'output': 'Communication'}, {'text_input': \"I'm looking for a virtual assistant that can help me with scheduling and email management.\", 'output': 'Communication'}, {'text_input': 'How can I improve my communication skills in a professional setting?', 'output': 'Communication'}, {'text_input': 'I need to talk to someone about my mental health, where can I find resources?', 'output': 'Communication'}, {'text_input': 'What are the benefits of using a chatbot for customer support?', 'output': 'Communication'}, {'text_input': 'How can I make my conversations more engaging?', 'output': 'Communication'}, {'text_input': 'I am depressed after failing in my exam and uncertain about my future.', 'output': 'Communication'}, {'text_input': \"I'm feeling lonely, can you recommend some ways to connect with others?\", 'output': 'Communication'}, {'text_input': 'What are some tips for having a difficult conversation?', 'output': 'Communication'}, {'text_input': 'Can you help me find a therapist in my area?', 'output': 'Communication'}, {'text_input': 'How can I use a virtual assistant to automate my daily tasks?', 'output': 'Communication'}, {'text_input': \"I'm struggling to communicate with my family, what can I do?\", 'output': 'Communication'}, {'text_input': \"I'm feeling lonely, is there a virtual assistant that can help me?\", 'output': 'Communication'}, {'text_input': 'Generate an image of a cat wearing a top hat', 'output': 'Visual Art'}, {'text_input': 'Create a video of a dog chasing its tail in slow motion', 'output': 'Visual Art'}, {'text_input': 'Make a photorealistic image of a sunset over the ocean', 'output': 'Visual Art'}, {'text_input': 'I need a video animation of a robot dancing to disco music', 'output': 'Visual Art'}, {'text_input': 'Can you generate a cartoon image of a dragon flying over a castle?', 'output': 'Visual Art'}, {'text_input': 'Generate a 3D model of a spaceship', 'output': 'Visual Art'}, {'text_input': 'Create a video of a time-lapse of a flower blooming', 'output': 'Visual Art'}, {'text_input': 'Make an abstract painting with vibrant colors', 'output': 'Visual Art'}, {'text_input': 'Generate a realistic image of a human face', 'output': 'Visual Art'}, {'text_input': 'Can you create a short animation of a person walking through a forest?', 'output': 'Visual Art'}, {'text_input': 'I need an image of a futuristic city skyline', 'output': 'Visual Art'}, {'text_input': 'Generate a video of a car driving through a desert landscape', 'output': 'Visual Art'}, {'text_input': 'Create a portrait of a person in a vintage style', 'output': 'Visual Art'}, {'text_input': 'Make an illustration of a fairy tale character', 'output': 'Visual Art'}, {'text_input': 'Generate a photo of a waterfall in a tropical rainforest', 'output': 'Visual Art'}, {'text_input': 'How can I create a catchy melody for my song?', 'output': 'Music and Audio'}, {'text_input': 'What are some good music production software for beginners?', 'output': 'Music and Audio'}, {'text_input': 'I want to create a podcast about music history. What equipment do I need?', 'output': 'Music and Audio'}, {'text_input': 'Can I use AI to generate music for my video game?', 'output': 'Music and Audio'}, {'text_input': 'What are some tips for writing lyrics that rhyme?', 'output': 'Music and Audio'}, {'text_input': 'How do I record my voice for a podcast?', 'output': 'Music and Audio'}, {'text_input': 'What are some free sound effects I can use in my music?', 'output': 'Music and Audio'}, {'text_input': 'How do I create a beat using a drum machine?', 'output': 'Music and Audio'}, {'text_input': 'I want to learn how to play the guitar. Are there any good online resources?', 'output': 'Music and Audio'}, {'text_input': 'What are some tips for mixing and mastering my music?', 'output': 'Music and Audio'}, {'text_input': \"How do I create a podcast intro that grabs people's attention?\", 'output': 'Music and Audio'}, {'text_input': 'How can I use AI to generate different voices for my podcast?', 'output': 'Music and Audio'}, {'text_input': 'What are some popular podcasting platforms?', 'output': 'Music and Audio'}, {'text_input': 'I want to start a music blog. How do I get started?', 'output': 'Music and Audio'}, {'text_input': 'What are some tools for creating and editing music videos?', 'output': 'Music and Audio'}, {'text_input': 'How to write a blog post that goes viral', 'output': 'Writing and Content Creation'}, {'text_input': 'Tips for creating engaging podcast content', 'output': 'Writing and Content Creation'}, {'text_input': 'What are the best storytelling techniques for fiction writing?', 'output': 'Writing and Content Creation'}, {'text_input': 'How can I improve my narrative writing skills?', 'output': 'Writing and Content Creation'}, {'text_input': 'What are some popular blog niches in 2023?', 'output': 'Writing and Content Creation'}, {'text_input': 'I need help crafting a compelling podcast intro', 'output': 'Writing and Content Creation'}, {'text_input': 'How to create a strong narrative arc in a short story', 'output': 'Writing and Content Creation'}, {'text_input': 'Tips for writing a blog post that ranks high in search results', 'output': 'Writing and Content Creation'}, {'text_input': 'I want to learn how to write a screenplay', 'output': 'Writing and Content Creation'}, {'text_input': 'What are the key elements of a good podcast interview?', 'output': 'Writing and Content Creation'}, {'text_input': 'How to structure a blog post for maximum readability', 'output': 'Writing and Content Creation'}, {'text_input': 'Tips for writing a compelling blog headline', 'output': 'Writing and Content Creation'}, {'text_input': \"I'm struggling to find a unique voice for my writing\", 'output': 'Writing and Content Creation'}, {'text_input': 'How to use social media to promote my blog', 'output': 'Writing and Content Creation'}, {'text_input': 'What are the best tools for podcast editing?', 'output': 'Writing and Content Creation'}, {'text_input': 'Write a compelling social media post promoting our new summer clothing line.', 'output': 'Marketing and Advertising'}, {'text_input': 'How can I optimize my website for better search engine ranking?', 'output': 'Marketing and Advertising'}, {'text_input': 'What are some effective strategies for market analysis in the beauty industry?', 'output': 'Marketing and Advertising'}, {'text_input': 'Create a catchy product description for our eco-friendly cleaning products.', 'output': 'Marketing and Advertising'}, {'text_input': 'I need help crafting a social media campaign for our upcoming product launch.', 'output': 'Marketing and Advertising'}, {'text_input': 'What are the best practices for creating engaging Instagram reels for our brand?', 'output': 'Marketing and Advertising'}, {'text_input': 'Analyze the target audience for our new fitness app.', 'output': 'Marketing and Advertising'}, {'text_input': 'How can I use Facebook ads to reach potential customers interested in our travel services?', 'output': 'Marketing and Advertising'}, {'text_input': 'Write a SEO-optimized blog post about the benefits of using our software.', 'output': 'Marketing and Advertising'}, {'text_input': 'What are the latest trends in social media marketing?', 'output': 'Marketing and Advertising'}, {'text_input': 'I need to create a marketing plan for our new line of organic skincare products.', 'output': 'Marketing and Advertising'}, {'text_input': 'How can I improve the conversion rate of our online store?', 'output': 'Marketing and Advertising'}, {'text_input': 'Analyze the competitive landscape for our new mobile game.', 'output': 'Marketing and Advertising'}, {'text_input': 'What are some creative ideas for a social media giveaway contest?', 'output': 'Marketing and Advertising'}, {'text_input': 'How can I measure the effectiveness of my current marketing campaigns?', 'output': 'Marketing and Advertising'}, {'text_input': 'Translate this sentence into Spanish', 'output': 'Translation and Localization'}, {'text_input': 'How do I translate a document from English to French?', 'output': 'Translation and Localization'}, {'text_input': \"Can you translate 'hello world' into Japanese?\", 'output': 'Translation and Localization'}, {'text_input': \"What's the best translator for Chinese to English?\", 'output': 'Translation and Localization'}, {'text_input': 'Need help translating a website from German to English', 'output': 'Translation and Localization'}, {'text_input': \"Translate this phrase into Italian: 'I love you'\", 'output': 'Translation and Localization'}, {'text_input': \"Translate 'good morning' into Russian\", 'output': 'Translation and Localization'}, {'text_input': 'I need to translate a legal document from French to English', 'output': 'Translation and Localization'}, {'text_input': 'Can you translate this song lyrics into Korean?', 'output': 'Translation and Localization'}, {'text_input': 'How to translate a PDF file from Spanish to Portuguese?', 'output': 'Translation and Localization'}, {'text_input': \"What's the meaning of this word in French?\", 'output': 'Translation and Localization'}, {'text_input': 'Translate this email into German', 'output': 'Translation and Localization'}, {'text_input': 'I need to translate a technical manual from English to Arabic', 'output': 'Translation and Localization'}, {'text_input': 'Translate this address into Japanese', 'output': 'Translation and Localization'}, {'text_input': 'Can you translate this recipe into Spanish?', 'output': 'Translation and Localization'}, {'text_input': 'How to write a function in Python to reverse a string?', 'output': 'Programming and Development'}, {'text_input': 'What is the best way to integrate the Stripe API into my Node.js application?', 'output': 'Programming and Development'}, {'text_input': 'Can you help me with a code snippet to implement a simple calculator in Java?', 'output': 'Programming and Development'}, {'text_input': \"I'm having trouble connecting to a MySQL database from my PHP script, any ideas?\", 'output': 'Programming and Development'}, {'text_input': 'Need help with creating a RESTful API in Flask, any tutorials?', 'output': 'Programming and Development'}, {'text_input': 'How do I debug a JavaScript error in my Chrome browser?', 'output': 'Programming and Development'}, {'text_input': 'What are some best practices for writing clean and efficient code?', 'output': 'Programming and Development'}, {'text_input': 'Could you explain the difference between GET and POST HTTP requests?', 'output': 'Programming and Development'}, {'text_input': \"I'm trying to build a simple web application using React, any guidance on getting started?\", 'output': 'Programming and Development'}, {'text_input': 'How to handle errors and exceptions gracefully in Python?', 'output': 'Programming and Development'}, {'text_input': 'What are some popular libraries for machine learning in Python?', 'output': 'Programming and Development'}, {'text_input': 'I need to generate a random password using JavaScript, any tips?', 'output': 'Programming and Development'}, {'text_input': 'How can I use Git to manage my code and collaborate with others?', 'output': 'Programming and Development'}, {'text_input': 'Could you show me an example of how to use a JSON API in PHP?', 'output': 'Programming and Development'}, {'text_input': 'What is the best IDE for coding in Java?', 'output': 'Programming and Development'}, {'text_input': 'Analyze the sales trends for the past year.', 'output': 'Data and Analytics'}, {'text_input': 'Generate a report on customer demographics.', 'output': 'Data and Analytics'}, {'text_input': 'Compare the performance of different marketing campaigns.', 'output': 'Data and Analytics'}, {'text_input': 'Identify outliers in the customer churn data.', 'output': 'Data and Analytics'}, {'text_input': 'Create a dashboard showing key performance indicators (KPIs).', 'output': 'Data and Analytics'}, {'text_input': 'Analyze the correlation between product features and customer satisfaction.', 'output': 'Data and Analytics'}, {'text_input': 'Forecast future sales based on historical data.', 'output': 'Data and Analytics'}, {'text_input': 'Generate a financial report for the last quarter.', 'output': 'Data and Analytics'}, {'text_input': 'Calculate the return on investment (ROI) for a specific project.', 'output': 'Data and Analytics'}, {'text_input': 'Analyze the profitability of different product lines.', 'output': 'Data and Analytics'}, {'text_input': 'Compare the financial performance of our company to industry benchmarks.', 'output': 'Data and Analytics'}, {'text_input': 'Identify areas of potential cost savings.', 'output': 'Data and Analytics'}, {'text_input': \"Generate a report on the company's financial health.\", 'output': 'Data and Analytics'}, {'text_input': 'Analyze the impact of recent economic events on our business.', 'output': 'Data and Analytics'}, {'text_input': 'Create a financial model to predict future cash flow.', 'output': 'Data and Analytics'}, {'text_input': 'Can you help me create a lesson plan for teaching 5th graders about the solar system?', 'output': 'Education and Training'}, {'text_input': 'I want to learn how to speak French. What resources do you recommend?', 'output': 'Education and Training'}, {'text_input': 'Give me some tips on making engaging online educational videos.', 'output': 'Education and Training'}, {'text_input': 'I need a comprehensive list of grammar exercises for English learners.', 'output': 'Education and Training'}, {'text_input': 'What are the best online platforms for learning programming?', 'output': 'Education and Training'}, {'text_input': 'Can you create a quiz on the history of the United States for my students?', 'output': 'Education and Training'}, {'text_input': 'How do I create a visually appealing presentation for my online course?', 'output': 'Education and Training'}, {'text_input': \"I'm looking for resources to help me teach my child basic math skills.\", 'output': 'Education and Training'}, {'text_input': 'Generate a script for a video lesson on the human body.', 'output': 'Education and Training'}, {'text_input': 'I need a tool to track my progress in learning Spanish.', 'output': 'Education and Training'}, {'text_input': 'What are some popular online courses for learning digital marketing?', 'output': 'Education and Training'}, {'text_input': 'I want to learn how to write better essays for college applications.', 'output': 'Education and Training'}, {'text_input': 'Can you suggest some educational games for young children?', 'output': 'Education and Training'}, {'text_input': 'How do I create a self-paced learning module on environmental science?', 'output': 'Education and Training'}, {'text_input': \"I need help finding a tutor for my child's algebra class.\", 'output': 'Education and Training'}, {'text_input': 'Generate a presentation on the benefits of cloud computing.', 'output': 'Business and Productivity'}, {'text_input': 'Create a presentation for a new product launch.', 'output': 'Business and Productivity'}, {'text_input': 'Help me write a persuasive presentation about sustainable business practices.', 'output': 'Business and Productivity'}, {'text_input': 'I need a presentation template for a marketing strategy.', 'output': 'Business and Productivity'}, {'text_input': 'Can you create a presentation on the latest trends in artificial intelligence?', 'output': 'Business and Productivity'}, {'text_input': 'Generate an email introducing myself to a potential client.', 'output': 'Business and Productivity'}, {'text_input': 'Compose an email to follow up on a job application.', 'output': 'Business and Productivity'}, {'text_input': 'Help me write a professional email to reschedule a meeting.', 'output': 'Business and Productivity'}, {'text_input': 'Write an email to a client requesting feedback.', 'output': 'Business and Productivity'}, {'text_input': 'I need a template for a cold email to potential investors.', 'output': 'Business and Productivity'}, {'text_input': 'Compose an email inviting people to a webinar.', 'output': 'Business and Productivity'}, {'text_input': 'Write a persuasive email to a client to close a deal.', 'output': 'Business and Productivity'}, {'text_input': 'Generate an email thanking a customer for their business.', 'output': 'Business and Productivity'}, {'text_input': 'Help me draft a formal email to a business partner.', 'output': 'Business and Productivity'}, {'text_input': 'Compose an email to apologize for a missed deadline.', 'output': 'Business and Productivity'}, {'text_input': 'Draft a non-disclosure agreement for a software startup.', 'output': 'Legal and Professional Services'}, {'text_input': 'I need a contract template for freelance writing services.', 'output': 'Legal and Professional Services'}, {'text_input': 'Can you help me create a lease agreement for my apartment?', 'output': 'Legal and Professional Services'}, {'text_input': \"I'm looking for a lawyer to draft a will for me.\", 'output': 'Legal and Professional Services'}, {'text_input': 'Generate a partnership agreement for a small business.', 'output': 'Legal and Professional Services'}, {'text_input': 'How do I write a contract for a consulting project?', 'output': 'Legal and Professional Services'}, {'text_input': 'I need a document outlining the terms of a business loan.', 'output': 'Legal and Professional Services'}, {'text_input': 'Draft a service agreement for a web development project.', 'output': 'Legal and Professional Services'}, {'text_input': 'I want to create a contract for a software license.', 'output': 'Legal and Professional Services'}, {'text_input': 'Help me draft a settlement agreement for a legal dispute.', 'output': 'Legal and Professional Services'}, {'text_input': 'Generate a power of attorney document.', 'output': 'Legal and Professional Services'}, {'text_input': 'I need a contract for a joint venture.', 'output': 'Legal and Professional Services'}, {'text_input': 'I need a lawyer to draft a prenuptial agreement.', 'output': 'Legal and Professional Services'}, {'text_input': 'Can you help me write a contract for a real estate purchase?', 'output': 'Legal and Professional Services'}, {'text_input': 'Generate a warranty agreement for a product.', 'output': 'Legal and Professional Services'}, {'text_input': 'Can you give me a recipe for a healthy vegetarian dinner?', 'output': 'Health and Wellness'}, {'text_input': 'I need a fitness plan to lose weight and build muscle.', 'output': 'Health and Wellness'}, {'text_input': 'What are some healthy snacks I can eat between meals?', 'output': 'Health and Wellness'}, {'text_input': \"I'm looking for a recipe for a quick and easy breakfast that's high in protein.\", 'output': 'Health and Wellness'}, {'text_input': \"Give me a recipe for a vegan smoothie that's packed with nutrients.\", 'output': 'Health and Wellness'}, {'text_input': \"I want to start a yoga routine, but I'm not sure where to begin.\", 'output': 'Health and Wellness'}, {'text_input': 'What are some tips for staying hydrated throughout the day?', 'output': 'Health and Wellness'}, {'text_input': 'Can you recommend a healthy meal plan for someone with diabetes?', 'output': 'Health and Wellness'}, {'text_input': \"I'm looking for a recipe for a gluten-free dessert.\", 'output': 'Health and Wellness'}, {'text_input': 'What are some exercises I can do at home to improve my flexibility?', 'output': 'Health and Wellness'}, {'text_input': 'I want to learn more about meditation and its benefits.', 'output': 'Health and Wellness'}, {'text_input': 'Can you suggest some healthy recipes for weight loss?', 'output': 'Health and Wellness'}, {'text_input': 'I need a workout routine that I can do in 30 minutes.', 'output': 'Health and Wellness'}, {'text_input': 'What are some tips for getting enough sleep?', 'output': 'Health and Wellness'}, {'text_input': 'Can you recommend a healthy recipe for a chicken stir-fry?', 'output': 'Health and Wellness'}, {'text_input': 'Can you help me solve this math problem?', 'output': 'Homework'}, {'text_input': 'I need help with my physics homework.', 'output': 'Homework'}, {'text_input': 'How can I write a better essay for my English class?', 'output': 'Homework'}, {'text_input': 'Can AI detect plagiarism in my essay?', 'output': 'Homework'}, {'text_input': 'How do I use AI to write a creative story?', 'output': 'Homework'}, {'text_input': 'Is it okay to use AI to generate content for my homework?', 'output': 'Homework'}, {'text_input': \"How can I check if my friend's essay was written by AI?\", 'output': 'Homework'}, {'text_input': 'I need help understanding this chemistry concept.', 'output': 'Homework'}, {'text_input': 'Is there a tool to detect AI-generated text?', 'output': 'Homework'}, {'text_input': \"I'm struggling with my history homework, can you help me?\", 'output': 'Homework'}, {'text_input': 'How can I improve my writing style for my English assignment?', 'output': 'Homework'}, {'text_input': 'I need a solution for this computer science problem.', 'output': 'Homework'}, {'text_input': 'Can AI be used to detect plagiarism in code?', 'output': 'Homework'}, {'text_input': 'How can I check if my code was written by AI?', 'output': 'Homework'}, {'text_input': 'What are some common AI detection tools for writing?', 'output': 'Homework'}, {'text_input': 'I need a logo design for my new tech startup.', 'output': 'Design'}, {'text_input': 'Can you design a logo for my clothing brand that is modern and minimalist?', 'output': 'Design'}, {'text_input': 'I need a professional logo for my real estate business.', 'output': 'Design'}, {'text_input': \"I want a logo that represents my company's values of innovation and creativity.\", 'output': 'Design'}, {'text_input': 'Design a logo for a new coffee shop that is trendy and inviting.', 'output': 'Design'}, {'text_input': 'Help me create a brand identity for my online store.', 'output': 'Design'}, {'text_input': 'I need a brand style guide for my small business.', 'output': 'Design'}, {'text_input': 'What colors should I use for my brand logo?', 'output': 'Design'}, {'text_input': 'Design a logo that is memorable and easy to recognize.', 'output': 'Design'}, {'text_input': \"I'm looking for a logo that is bold and eye-catching.\", 'output': 'Design'}, {'text_input': 'Create a professional presentation for my new product launch.', 'output': 'Design'}, {'text_input': 'I need a presentation that is visually appealing and informative.', 'output': 'Design'}, {'text_input': 'Design a presentation that will help me secure funding for my business.', 'output': 'Design'}, {'text_input': \"I'm looking for a presentation template that is modern and sleek.\", 'output': 'Design'}, {'text_input': 'Help me create a presentation that will engage my audience.', 'output': 'Design'}, {'text_input': 'Can you help me plan a 7-day trip to the Italian Riviera in June? I want to see the Cinque Terre, go swimming, and enjoy the local cuisine.', 'output': 'Travel and Hospitality'}, {'text_input': \"I'm going to Paris in October for a week. I'd love to see the Eiffel Tower, Louvre Museum, and Notre Dame Cathedral. Could you create a possible itinerary?\", 'output': 'Travel and Hospitality'}, {'text_input': \"I'm planning a trip to Tokyo in April with my family. We'd like to visit the Tsukiji Fish Market, explore the Imperial Palace, and experience traditional Japanese culture. Help me create a sample itinerary.\", 'output': 'Travel and Hospitality'}, {'text_input': \"I'm looking to plan a honeymoon in Bali. I want to relax on the beach, explore the rice paddies, and visit some temples. Can you suggest a possible itinerary?\", 'output': 'Travel and Hospitality'}, {'text_input': \"My friends and I are planning a weekend trip to San Francisco in August. We'd like to visit Alcatraz, ride a cable car, and enjoy the nightlife. Can you create a basic itinerary?\", 'output': 'Travel and Hospitality'}, {'text_input': \"I'm planning a road trip from New York City to Los Angeles in September. I'm interested in seeing national parks and historical landmarks along the way. Suggest a possible itinerary.\", 'output': 'Travel and Hospitality'}, {'text_input': \"I'm planning a family vacation to Orlando in December. My kids are excited to visit Disney World and Universal Studios. Help me create an itinerary.\", 'output': 'Travel and Hospitality'}, {'text_input': 'I want to plan a birthday celebration for my wife in Las Vegas. She loves casinos, shows, and fine dining. Could you suggest a possible itinerary?', 'output': 'Travel and Hospitality'}, {'text_input': \"I'm planning a business trip to London in January. I need to attend a conference and explore the city in my free time. Can you help me create an itinerary?\", 'output': 'Travel and Hospitality'}, {'text_input': \"I'm looking to plan a weekend getaway to the Bahamas in February. I want to relax on the beach, go snorkeling, and enjoy the nightlife. Can you suggest a possible itinerary?\", 'output': 'Travel and Hospitality'}, {'text_input': \"I'm planning a wedding in Hawaii in October. I need to choose a venue, hire a photographer, and plan the ceremony and reception. Can you help me with this?\", 'output': 'Travel and Hospitality'}, {'text_input': \"I'm planning a graduation party for my daughter in June. I want to find a good location, cater food, and have some entertainment. Can you help me plan this?\", 'output': 'Travel and Hospitality'}, {'text_input': \"I'm looking to organize a birthday party for my son in July. He loves superheroes and wants a themed party. Can you suggest some ideas for a superhero party?\", 'output': 'Travel and Hospitality'}, {'text_input': \"I'm planning a corporate event in September. I need to find a venue, cater food, and book entertainment. Can you help me plan this?\", 'output': 'Travel and Hospitality'}, {'text_input': \"I'm looking to organize a holiday party for my company in December. I need to find a venue, decorate, and plan the food and drinks. Can you help me with this?\", 'output': 'Travel and Hospitality'}, {'text_input': 'What are the different sizes available for the blue cotton shirt?', 'output': 'Retail and E-commerce'}, {'text_input': 'Can you recommend a good pair of hiking boots for someone with wide feet?', 'output': 'Retail and E-commerce'}, {'text_input': \"I'm looking for a new laptop, what are the best options under $1000?\", 'output': 'Retail and E-commerce'}, {'text_input': \"I'm interested in finding a birthday gift for my wife, she loves reading and cooking.\", 'output': 'Retail and E-commerce'}, {'text_input': 'Show me the latest deals on smartwatches.', 'output': 'Retail and E-commerce'}, {'text_input': 'What is the return policy for this item?', 'output': 'Retail and E-commerce'}, {'text_input': 'I need a pair of headphones that are good for working out.', 'output': 'Retail and E-commerce'}, {'text_input': 'Can you recommend a good coffee maker for someone who loves strong coffee?', 'output': 'Retail and E-commerce'}, {'text_input': 'What are the shipping options for this product?', 'output': 'Retail and E-commerce'}, {'text_input': \"I'm looking for a durable suitcase that can withstand rough travel.\", 'output': 'Retail and E-commerce'}, {'text_input': \"I need a new phone case, but I don't want it to be bulky.\", 'output': 'Retail and E-commerce'}, {'text_input': 'Show me some of the best selling items in the electronics category.', 'output': 'Retail and E-commerce'}, {'text_input': 'What is the warranty on this product?', 'output': 'Retail and E-commerce'}, {'text_input': \"I'm looking for a gift for a friend who is moving into a new apartment.\", 'output': 'Retail and E-commerce'}, {'text_input': 'Can you recommend a good travel backpack that fits a laptop?', 'output': 'Retail and E-commerce'}, {'text_input': 'Can you help me write a resume that highlights my skills in data analysis?', 'output': 'Human Resources'}, {'text_input': 'I need a cover letter for a marketing position, could you give me some tips?', 'output': 'Human Resources'}, {'text_input': 'What are some key things to include in a resume for a software engineer?', 'output': 'Human Resources'}, {'text_input': 'How do I write a compelling cover letter that stands out?', 'output': 'Human Resources'}, {'text_input': 'I need to create a job description for a social media manager, what should I include?', 'output': 'Human Resources'}, {'text_input': 'What are some essential elements of a strong resume for a customer service representative?', 'output': 'Human Resources'}, {'text_input': \"I'm applying for a job in the tech industry, can you help me tailor my resume?\", 'output': 'Human Resources'}, {'text_input': 'How do I write a cover letter that showcases my passion for the role?', 'output': 'Human Resources'}, {'text_input': 'What are some best practices for writing a job description that attracts top talent?', 'output': 'Human Resources'}, {'text_input': 'I need a cover letter template for a specific industry, can you provide one?', 'output': 'Human Resources'}, {'text_input': 'How do I highlight my achievements and quantify my results in my resume?', 'output': 'Human Resources'}, {'text_input': \"I'm struggling to write a concise and impactful resume, any tips?\", 'output': 'Human Resources'}, {'text_input': 'What are some common mistakes to avoid when writing a cover letter?', 'output': 'Human Resources'}, {'text_input': 'How can I make my resume more visually appealing?', 'output': 'Human Resources'}, {'text_input': 'I need a job description for a project manager with a focus on leadership skills.', 'output': 'Human Resources'}, {'text_input': 'Can you find me the latest research papers on climate change impact on agriculture?', 'output': 'Science and Research'}, {'text_input': \"Summarize the key findings of the paper titled 'The impact of artificial intelligence on healthcare' published in Nature?\", 'output': 'Science and Research'}, {'text_input': \"What are the main research questions addressed in the paper titled 'Neural networks in natural language processing'? \", 'output': 'Science and Research'}, {'text_input': 'Give me a brief overview of the research paper on quantum computing published in Science magazine.', 'output': 'Science and Research'}, {'text_input': \"I need a summary of the research paper 'The role of social media in political campaigns' by Jones and Smith.\", 'output': 'Science and Research'}, {'text_input': 'Find me research papers on the effectiveness of online education.', 'output': 'Science and Research'}, {'text_input': 'What are the latest advancements in the field of gene editing?', 'output': 'Science and Research'}, {'text_input': 'Summarize the research on the impact of social media on mental health.', 'output': 'Science and Research'}, {'text_input': \"Can you provide me with a summary of the research paper titled 'The future of work' by McKinsey & Company?\", 'output': 'Science and Research'}, {'text_input': \"I'm interested in research on the impact of automation on employment.\", 'output': 'Science and Research'}, {'text_input': \"Give me a short overview of the research paper 'The rise of artificial intelligence in the workplace' by the World Economic Forum.\", 'output': 'Science and Research'}, {'text_input': 'What are the key findings of the research on the impact of globalization on developing countries?', 'output': 'Science and Research'}, {'text_input': 'Summarize the research on the effectiveness of different teaching methods.', 'output': 'Science and Research'}, {'text_input': 'Can you find me research papers on the benefits of exercise on brain health?', 'output': 'Science and Research'}, {'text_input': \"What are the main conclusions of the research paper 'The role of big data in public health'?\", 'output': 'Science and Research'}, {'text_input': 'Generate a news article about the latest developments in artificial intelligence.', 'output': 'Media and Journalism'}, {'text_input': 'Summarize the key points from the article on the impact of climate change on the economy.', 'output': 'Media and Journalism'}, {'text_input': 'Write a news article about the upcoming election.', 'output': 'Media and Journalism'}, {'text_input': 'Summarize the main points from the recent speech by the president.', 'output': 'Media and Journalism'}, {'text_input': 'Generate a news article about the latest scientific discoveries.', 'output': 'Media and Journalism'}, {'text_input': 'Summarize the key findings from the new study on the effectiveness of a new drug.', 'output': 'Media and Journalism'}, {'text_input': 'Write a news article about the new technology that can predict earthquakes.', 'output': 'Media and Journalism'}, {'text_input': 'Summarize the main points from the recent interview with the CEO of Google.', 'output': 'Media and Journalism'}, {'text_input': 'Generate a news article about the latest fashion trends.', 'output': 'Media and Journalism'}, {'text_input': 'Summarize the key events from the recent sporting event.', 'output': 'Media and Journalism'}, {'text_input': 'Write a news article about the latest developments in the music industry.', 'output': 'Media and Journalism'}, {'text_input': 'Summarize the main points from the recent book release.', 'output': 'Media and Journalism'}, {'text_input': 'Generate a news article about the upcoming movie release.', 'output': 'Media and Journalism'}, {'text_input': 'Summarize the key events from the recent political summit.', 'output': 'Media and Journalism'}, {'text_input': 'Write a news article about the latest developments in the art world.', 'output': 'Media and Journalism'}, {'text_input': 'What is the current weather in Paris?', 'output': 'Others'}, {'text_input': 'Can you tell me the latest news about the stock market?', 'output': 'Others'}, {'text_input': 'What is the meaning of life?', 'output': 'Others'}, {'text_input': 'What are the top 10 highest mountains in the world?', 'output': 'Others'}, {'text_input': 'How do I convert euros to dollars?', 'output': 'Others'}, {'text_input': 'Is it raining in London?', 'output': 'Others'}, {'text_input': 'What is the capital of Australia?', 'output': 'Others'}, {'text_input': 'What are the best restaurants in New York City?', 'output': 'Others'}, {'text_input': 'Who won the Super Bowl last year?', 'output': 'Others'}, {'text_input': 'How do I change a tire?', 'output': 'Others'}, {'text_input': 'What is the population of China?', 'output': 'Others'}, {'text_input': 'How many calories are in a banana?', 'output': 'Others'}, {'text_input': 'What is the speed of light?', 'output': 'Others'}, {'text_input': 'What is the definition of love?', 'output': 'Others'}, {'text_input': 'What are the different types of clouds?', 'output': 'Others'}]\n"
          ]
        }
      ]
    },
    {
      "cell_type": "code",
      "source": [
        "import csv\n",
        "\n",
        "filename = \"Validation Dataset.csv\"\n",
        "\n",
        "validation_data = []\n",
        "\n",
        "with open(filename, mode='r', newline='') as file:\n",
        "    reader = csv.DictReader(file)\n",
        "\n",
        "    for row in reader:\n",
        "        validation_data.append({\n",
        "            'text_input': row['Query'],\n",
        "            'output': row['Category'].strip()\n",
        "        })\n",
        "\n",
        "print(validation_data)\n"
      ],
      "metadata": {
        "colab": {
          "base_uri": "https://localhost:8080/"
        },
        "id": "Ni0PFIFDBjOQ",
        "outputId": "b75cac08-e848-40f7-c7ed-1bb3f4b11ba3"
      },
      "execution_count": null,
      "outputs": [
        {
          "output_type": "stream",
          "name": "stdout",
          "text": [
            "[{'text_input': 'Can you help me find a chatbot that specializes in mental health?', 'output': 'Communication'}, {'text_input': \"I need to have a conversation with someone about my anxiety, but I'm too nervous to talk to a real person.\", 'output': 'Communication'}, {'text_input': 'Is there a virtual assistant that can help me schedule therapy appointments?', 'output': 'Communication'}, {'text_input': \"I'm looking for a chatbot that can help me manage my stress.\", 'output': 'Communication'}, {'text_input': 'What are some good resources for online therapy or virtual mental health support?', 'output': 'Communication'}, {'text_input': 'Generate a photorealistic image of a cat riding a unicorn in a field of sunflowers.', 'output': 'Visual Art'}, {'text_input': 'Create a short animated video of a penguin dancing on a beach.', 'output': 'Visual Art'}, {'text_input': 'Can you make a surreal video of a melting clock on a staircase?', 'output': 'Visual Art'}, {'text_input': 'I need a photo of a futuristic city with flying cars and neon lights.', 'output': 'Visual Art'}, {'text_input': 'Generate a video of a dreamlike landscape with floating islands and waterfalls.', 'output': 'Visual Art'}, {'text_input': 'How do I create a music track using AI?', 'output': 'Music and Audio'}, {'text_input': 'Can you help me generate a script for a podcast episode?', 'output': 'Music and Audio'}, {'text_input': 'I need to create a rap beat, any suggestions?', 'output': 'Music and Audio'}, {'text_input': 'How to convert text to speech for my audio book?', 'output': 'Music and Audio'}, {'text_input': 'Generate a catchy jingle for my new business', 'output': 'Music and Audio'}, {'text_input': 'How to write a compelling blog post about travel?', 'output': 'Writing and Content Creation'}, {'text_input': 'What are some tips for creating a podcast script?', 'output': 'Writing and Content Creation'}, {'text_input': 'Can you help me with crafting a short story with a surprise twist ending?', 'output': 'Writing and Content Creation'}, {'text_input': \"I'm struggling with finding a captivating narrative voice for my novel, any advice?\", 'output': 'Writing and Content Creation'}, {'text_input': 'What are the essential elements of a good story?', 'output': 'Writing and Content Creation'}, {'text_input': 'How can I write a compelling social media post about our new product launch?', 'output': 'Marketing and Advertising'}, {'text_input': 'What are the key elements of a good product description on Amazon?', 'output': 'Marketing and Advertising'}, {'text_input': \"What are some effective SEO strategies for improving my website's ranking?\", 'output': 'Marketing and Advertising'}, {'text_input': 'Can you help me analyze the current market trends for my target audience?', 'output': 'Marketing and Advertising'}, {'text_input': 'What are some best practices for creating engaging Instagram Reels for our brand?', 'output': 'Marketing and Advertising'}, {'text_input': \"Translate 'Hello, how are you?' into Spanish.\", 'output': 'Translation and Localization'}, {'text_input': \"What is the French translation for 'Thank you very much'?\", 'output': 'Translation and Localization'}, {'text_input': 'I need a translation of this document from English to German.', 'output': 'Translation and Localization'}, {'text_input': \"Could you translate this sentence into Japanese: 'I love eating sushi.'\", 'output': 'Translation and Localization'}, {'text_input': 'Translate this website from English to Chinese.', 'output': 'Translation and Localization'}, {'text_input': 'How to implement a REST API in Python using Flask?', 'output': 'Programming and Development'}, {'text_input': 'Can you help me write a function to calculate the factorial of a number in JavaScript?', 'output': 'Programming and Development'}, {'text_input': 'I need help integrating the Stripe API into my Node.js application.', 'output': 'Programming and Development'}, {'text_input': 'What are the best libraries for handling asynchronous operations in Java?', 'output': 'Programming and Development'}, {'text_input': \"Can you explain the difference between 'for' and 'while' loops in C++?\", 'output': 'Programming and Development'}, {'text_input': 'Can you analyze the sales data for the last quarter and identify any trends?', 'output': 'Data and Analytics'}, {'text_input': \"Generate a report on the company's financial performance for the past year.\", 'output': 'Data and Analytics'}, {'text_input': 'I need to analyze the customer demographics and identify key segments.', 'output': 'Data and Analytics'}, {'text_input': 'Could you create a dashboard showing the monthly website traffic and engagement metrics?', 'output': 'Data and Analytics'}, {'text_input': 'Generate a report comparing the performance of different marketing campaigns.', 'output': 'Data and Analytics'}, {'text_input': 'Can you help me create an engaging lesson plan for teaching fractions to fifth graders?', 'output': 'Education and Training'}, {'text_input': \"I'm looking for a free online tool to help me learn Spanish for beginners.\", 'output': 'Education and Training'}, {'text_input': 'What are some tips for creating a video tutorial on how to use Photoshop?', 'output': 'Education and Training'}, {'text_input': 'I want to learn how to write a compelling blog post about history.', 'output': 'Education and Training'}, {'text_input': 'Could you suggest some interactive activities for teaching kids about the solar system?', 'output': 'Education and Training'}, {'text_input': 'Create a presentation about the benefits of our new software.', 'output': 'Business and Productivity'}, {'text_input': 'Generate an email to potential investors outlining our business plan.', 'output': 'Business and Productivity'}, {'text_input': 'Can you help me craft a compelling presentation for my upcoming pitch?', 'output': 'Business and Productivity'}, {'text_input': 'Write an email to our team summarizing the recent meeting.', 'output': 'Business and Productivity'}, {'text_input': 'I need a professional email template for sending out invoices.', 'output': 'Business and Productivity'}, {'text_input': 'Draft a non-disclosure agreement for a software development project.', 'output': 'Legal and Professional Services'}, {'text_input': 'I need a contract for a freelance writing job.', 'output': 'Legal and Professional Services'}, {'text_input': 'Can you help me generate a lease agreement for my apartment?', 'output': 'Legal and Professional Services'}, {'text_input': 'I need to create a power of attorney document.', 'output': 'Legal and Professional Services'}, {'text_input': 'Create a contract for a partnership agreement between two businesses.', 'output': 'Legal and Professional Services'}, {'text_input': 'What are some healthy and easy recipes for breakfast?', 'output': 'Health and Wellness'}, {'text_input': 'Can you recommend a workout routine for weight loss?', 'output': 'Health and Wellness'}, {'text_input': \"I'm looking for a fitness plan that focuses on building muscle.\", 'output': 'Health and Wellness'}, {'text_input': 'What are some tips for managing stress?', 'output': 'Health and Wellness'}, {'text_input': 'Give me a recipe for a vegetarian meal plan.', 'output': 'Health and Wellness'}, {'text_input': 'Can you help me solve this physics problem about projectile motion?', 'output': 'Homework'}, {'text_input': 'I need to write an essay about the impact of social media, can you give me some ideas?', 'output': 'Homework'}, {'text_input': 'Is there a way to check if this essay I wrote was written by AI?', 'output': 'Homework'}, {'text_input': \"I'm struggling with my calculus homework, can you provide some solutions?\", 'output': 'Homework'}, {'text_input': 'How can I differentiate between AI-generated text and human-written content?', 'output': 'Homework'}, {'text_input': 'I need a logo design for my new coffee shop. It should be modern and minimalist, incorporating elements of coffee beans and a cup.', 'output': 'Design'}, {'text_input': 'Can you help me create a branding guide for my online clothing store? I want it to be edgy and target young adults.', 'output': 'Design'}, {'text_input': \"I'm looking for a professional designer to create a presentation for my business proposal. It should be visually appealing and easy to understand.\", 'output': 'Design'}, {'text_input': 'I need a logo for my new app that connects people with shared interests. I want it to be bright and fun.', 'output': 'Design'}, {'text_input': 'Could you design a logo for my yoga studio? I want it to be calming and incorporate lotus flowers and symbols of peace.', 'output': 'Design'}, {'text_input': 'Create a travel itinerary for a 7-day trip to Paris, including visits to the Eiffel Tower, Louvre Museum, and Notre Dame Cathedral.', 'output': 'Travel and Hospitality'}, {'text_input': 'Plan a romantic weekend getaway to Napa Valley with wine tasting and a hot air balloon ride.', 'output': 'Travel and Hospitality'}, {'text_input': 'I want to plan a family vacation to Orlando, Florida, including theme park tickets, hotel recommendations, and transportation options.', 'output': 'Travel and Hospitality'}, {'text_input': 'Can you help me find a hotel near the airport in Amsterdam for a business trip?', 'output': 'Travel and Hospitality'}, {'text_input': 'Plan a bachelorette party in Las Vegas with a budget of $1000 per person.', 'output': 'Travel and Hospitality'}, {'text_input': 'What are the best-selling winter boots for women?', 'output': 'Retail and E-commerce'}, {'text_input': 'Can you recommend some trendy dresses for a summer wedding?', 'output': 'Retail and E-commerce'}, {'text_input': \"I'm looking for a durable and lightweight laptop for college students. Any suggestions?\", 'output': 'Retail and E-commerce'}, {'text_input': 'What are the top-rated headphones under $100?', 'output': 'Retail and E-commerce'}, {'text_input': 'Show me similar products to this dress I found on another website.', 'output': 'Retail and E-commerce'}, {'text_input': 'Can you help me write a compelling resume highlighting my skills in data analysis and project management?', 'output': 'Human Resources'}, {'text_input': 'I need a cover letter for a software engineer position that emphasizes my experience in agile development.', 'output': 'Human Resources'}, {'text_input': 'How do I create a job description for a marketing coordinator that attracts the best candidates?', 'output': 'Human Resources'}, {'text_input': 'What are some key phrases to include in my resume for a customer service role?', 'output': 'Human Resources'}, {'text_input': \"I'm looking for a template for a professional cover letter for a management position.\", 'output': 'Human Resources'}, {'text_input': 'Can you summarize the key findings of the research paper on the effects of climate change on coral reefs?', 'output': 'Science and Research'}, {'text_input': 'I need a dataset of research papers on the development of renewable energy technologies.', 'output': 'Science and Research'}, {'text_input': 'What are the latest research papers on the impact of social media on mental health?', 'output': 'Science and Research'}, {'text_input': 'Find me a research paper that investigates the effectiveness of different cancer treatment methods.', 'output': 'Science and Research'}, {'text_input': \"Summarize the research paper titled 'The impact of artificial intelligence on the job market'\", 'output': 'Science and Research'}, {'text_input': 'Generate a news article about the recent earthquake in Turkey.', 'output': 'Media and Journalism'}, {'text_input': 'Summarize the key points of the latest IPCC report on climate change.', 'output': 'Media and Journalism'}, {'text_input': 'Create a news article about the upcoming presidential election in the United States.', 'output': 'Media and Journalism'}, {'text_input': 'Write a short summary of the latest developments in the war in Ukraine.', 'output': 'Media and Journalism'}, {'text_input': 'Can you create a news story about the latest advancements in artificial intelligence?', 'output': 'Media and Journalism'}, {'text_input': 'Can you write a haiku about the ocean?', 'output': 'Others'}, {'text_input': 'What is the meaning of life?', 'output': 'Others'}, {'text_input': 'Tell me a joke.', 'output': 'Others'}, {'text_input': 'What is the capital of France?', 'output': 'Others'}, {'text_input': 'Who is the first president of USA?', 'output': 'Others'}]\n"
          ]
        }
      ]
    },
    {
      "cell_type": "markdown",
      "metadata": {
        "id": "BhkXRzciv3Dp"
      },
      "source": [
        "## Create tuned model"
      ]
    },
    {
      "cell_type": "code",
      "execution_count": null,
      "metadata": {
        "id": "w-EBSe9wTbLB",
        "outputId": "f16e46dd-fc8f-4c2b-df46-6b25da86bbe0",
        "colab": {
          "base_uri": "https://localhost:8080/"
        }
      },
      "outputs": [
        {
          "output_type": "execute_result",
          "data": {
            "text/plain": [
              "Model(name='models/gemini-1.0-pro-001',\n",
              "      base_model_id='',\n",
              "      version='001',\n",
              "      display_name='Gemini 1.0 Pro 001 (Tuning)',\n",
              "      description=('The best model for scaling across a wide range of tasks. This is a stable '\n",
              "                   'model that supports tuning.'),\n",
              "      input_token_limit=30720,\n",
              "      output_token_limit=2048,\n",
              "      supported_generation_methods=['generateContent', 'countTokens', 'createTunedModel'],\n",
              "      temperature=0.9,\n",
              "      max_temperature=None,\n",
              "      top_p=1.0,\n",
              "      top_k=None)"
            ]
          },
          "metadata": {},
          "execution_count": 8
        }
      ],
      "source": [
        "base_model = [\n",
        "    m for m in genai.list_models()\n",
        "    if \"createTunedModel\" in m.supported_generation_methods][0]\n",
        "base_model"
      ]
    },
    {
      "cell_type": "code",
      "execution_count": null,
      "metadata": {
        "id": "baHjHh1oTTTC"
      },
      "outputs": [],
      "source": [
        "name = \"categoryclassifier31072024\"\n",
        "operation = genai.create_tuned_model(\n",
        "    source_model=base_model.name,\n",
        "    display_name=\"categoryclassifier-new\",\n",
        "    training_data=training_data,\n",
        "    id = name,\n",
        "    epoch_count = 5,\n",
        "    batch_size=5,\n",
        "    learning_rate=0.001,\n",
        ")"
      ]
    },
    {
      "cell_type": "code",
      "execution_count": null,
      "metadata": {
        "id": "su64KgY4Uztj",
        "outputId": "fc8e507f-4024-4c09-c361-6d6b99567afa",
        "colab": {
          "base_uri": "https://localhost:8080/"
        }
      },
      "outputs": [
        {
          "output_type": "execute_result",
          "data": {
            "text/plain": [
              "TunedModel(name='tunedModels/categoryclassifier31072024',\n",
              "           source_model='models/gemini-1.0-pro-001',\n",
              "           base_model='models/gemini-1.0-pro-001',\n",
              "           display_name='categoryclassifier',\n",
              "           description='',\n",
              "           temperature=0.9,\n",
              "           top_p=1.0,\n",
              "           top_k=0,\n",
              "           state=<State.ACTIVE: 2>,\n",
              "           create_time=datetime.datetime(2024, 7, 30, 19, 9, 58, 497261, tzinfo=datetime.timezone.utc),\n",
              "           update_time=datetime.datetime(2024, 7, 30, 19, 30, 56, 768210, tzinfo=datetime.timezone.utc),\n",
              "           tuning_task=TuningTask(start_time=datetime.datetime(2024, 7, 30, 19, 10, 0, 372279, tzinfo=datetime.timezone.utc),\n",
              "                                  complete_time=None,\n",
              "                                  snapshots=[...],\n",
              "                                  hyperparameters=Hyperparameters(epoch_count=100,\n",
              "                                                                  batch_size=4,\n",
              "                                                                  learning_rate=0.001)))"
            ]
          },
          "metadata": {},
          "execution_count": 90
        }
      ],
      "source": [
        "name = \"categoryclassifier31072024\"\n",
        "model = genai.get_tuned_model(f'tunedModels/{name}')\n",
        "\n",
        "model"
      ]
    },
    {
      "cell_type": "code",
      "execution_count": null,
      "metadata": {
        "id": "EUodUwZkKPi-",
        "outputId": "ef219d69-7924-482d-f817-5b3fb7c824a7",
        "colab": {
          "base_uri": "https://localhost:8080/"
        }
      },
      "outputs": [
        {
          "output_type": "execute_result",
          "data": {
            "text/plain": [
              "<State.ACTIVE: 2>"
            ]
          },
          "metadata": {},
          "execution_count": 91
        }
      ],
      "source": [
        "model.state"
      ]
    },
    {
      "cell_type": "markdown",
      "metadata": {
        "id": "Pi8X5vkQv-3_"
      },
      "source": [
        "### Check tuning progress"
      ]
    },
    {
      "cell_type": "code",
      "execution_count": null,
      "metadata": {
        "id": "g08vqtxYLMxT",
        "outputId": "6e31f103-0027-4dd6-d6a5-b25bed9f52ba",
        "colab": {
          "base_uri": "https://localhost:8080/"
        }
      },
      "outputs": [
        {
          "output_type": "stream",
          "name": "stdout",
          "text": [
            "total_steps: 300\n",
            "completed_steps: 79\n",
            "completed_percent: 26.33333396911621\n",
            "snapshots {\n",
            "  step: 1\n",
            "  mean_loss: 25.305644989013672\n",
            "  compute_time {\n",
            "    seconds: 1722432759\n",
            "    nanos: 825793075\n",
            "  }\n",
            "}\n",
            "snapshots {\n",
            "  step: 2\n",
            "  mean_loss: 26.37003517150879\n",
            "  compute_time {\n",
            "    seconds: 1722432805\n",
            "    nanos: 4139188\n",
            "  }\n",
            "}\n",
            "snapshots {\n",
            "  step: 3\n",
            "  mean_loss: 22.38521385192871\n",
            "  compute_time {\n",
            "    seconds: 1722432849\n",
            "    nanos: 499304249\n",
            "  }\n",
            "}\n",
            "snapshots {\n",
            "  step: 4\n",
            "  mean_loss: 22.98593521118164\n",
            "  compute_time {\n",
            "    seconds: 1722432865\n",
            "    nanos: 995988001\n",
            "  }\n",
            "}\n",
            "snapshots {\n",
            "  step: 5\n",
            "  mean_loss: 23.081951141357422\n",
            "  compute_time {\n",
            "    seconds: 1722432875\n",
            "    nanos: 990036536\n",
            "  }\n",
            "}\n",
            "snapshots {\n",
            "  step: 6\n",
            "  mean_loss: 21.281742095947266\n",
            "  compute_time {\n",
            "    seconds: 1722432883\n",
            "    nanos: 995764545\n",
            "  }\n",
            "}\n",
            "snapshots {\n",
            "  step: 7\n",
            "  mean_loss: 19.93014907836914\n",
            "  compute_time {\n",
            "    seconds: 1722432897\n",
            "    nanos: 312994626\n",
            "  }\n",
            "}\n",
            "snapshots {\n",
            "  step: 8\n",
            "  mean_loss: 12.081938743591309\n",
            "  compute_time {\n",
            "    seconds: 1722432908\n",
            "    nanos: 837615132\n",
            "  }\n",
            "}\n",
            "snapshots {\n",
            "  step: 9\n",
            "  mean_loss: 17.764257431030273\n",
            "  compute_time {\n",
            "    seconds: 1722432926\n",
            "    nanos: 353414118\n",
            "  }\n",
            "}\n",
            "snapshots {\n",
            "  step: 10\n",
            "  mean_loss: 12.89149284362793\n",
            "  compute_time {\n",
            "    seconds: 1722432944\n",
            "    nanos: 774563409\n",
            "  }\n",
            "}\n",
            "snapshots {\n",
            "  step: 11\n",
            "  mean_loss: 11.131156921386719\n",
            "  compute_time {\n",
            "    seconds: 1722432954\n",
            "    nanos: 890906073\n",
            "  }\n",
            "}\n",
            "snapshots {\n",
            "  step: 12\n",
            "  mean_loss: 10.18393611907959\n",
            "  compute_time {\n",
            "    seconds: 1722432965\n",
            "    nanos: 636039362\n",
            "  }\n",
            "}\n",
            "snapshots {\n",
            "  step: 13\n",
            "  mean_loss: 10.332423210144043\n",
            "  compute_time {\n",
            "    seconds: 1722432977\n",
            "    nanos: 117089727\n",
            "  }\n",
            "}\n",
            "snapshots {\n",
            "  step: 14\n",
            "  mean_loss: 6.882273197174072\n",
            "  compute_time {\n",
            "    seconds: 1722432987\n",
            "    nanos: 415061746\n",
            "  }\n",
            "}\n",
            "snapshots {\n",
            "  step: 15\n",
            "  mean_loss: 6.427282810211182\n",
            "  compute_time {\n",
            "    seconds: 1722433001\n",
            "    nanos: 575976068\n",
            "  }\n",
            "}\n",
            "snapshots {\n",
            "  step: 16\n",
            "  mean_loss: 6.906739234924316\n",
            "  compute_time {\n",
            "    seconds: 1722433014\n",
            "    nanos: 144422744\n",
            "  }\n",
            "}\n",
            "snapshots {\n",
            "  step: 17\n",
            "  mean_loss: 5.960061073303223\n",
            "  compute_time {\n",
            "    seconds: 1722433021\n",
            "    nanos: 932905725\n",
            "  }\n",
            "}\n",
            "snapshots {\n",
            "  step: 18\n",
            "  mean_loss: 3.572612762451172\n",
            "  compute_time {\n",
            "    seconds: 1722433048\n",
            "    nanos: 263301100\n",
            "  }\n",
            "}\n",
            "snapshots {\n",
            "  step: 19\n",
            "  mean_loss: 2.5966238975524902\n",
            "  compute_time {\n",
            "    seconds: 1722433065\n",
            "    nanos: 75856689\n",
            "  }\n",
            "}\n",
            "snapshots {\n",
            "  step: 20\n",
            "  mean_loss: 2.9483046531677246\n",
            "  compute_time {\n",
            "    seconds: 1722433072\n",
            "    nanos: 600558477\n",
            "  }\n",
            "}\n",
            "snapshots {\n",
            "  step: 21\n",
            "  mean_loss: 2.7959015369415283\n",
            "  compute_time {\n",
            "    seconds: 1722433085\n",
            "    nanos: 883820325\n",
            "  }\n",
            "}\n",
            "snapshots {\n",
            "  step: 22\n",
            "  mean_loss: 2.4796206951141357\n",
            "  compute_time {\n",
            "    seconds: 1722433093\n",
            "    nanos: 392772275\n",
            "  }\n",
            "}\n",
            "snapshots {\n",
            "  step: 23\n",
            "  mean_loss: 2.6478705406188965\n",
            "  compute_time {\n",
            "    seconds: 1722433112\n",
            "    nanos: 992810425\n",
            "  }\n",
            "}\n",
            "snapshots {\n",
            "  step: 24\n",
            "  mean_loss: 1.600887656211853\n",
            "  compute_time {\n",
            "    seconds: 1722433117\n",
            "    nanos: 242571134\n",
            "  }\n",
            "}\n",
            "snapshots {\n",
            "  step: 25\n",
            "  mean_loss: 2.7817680835723877\n",
            "  compute_time {\n",
            "    seconds: 1722433130\n",
            "    nanos: 557027478\n",
            "  }\n",
            "}\n",
            "snapshots {\n",
            "  step: 26\n",
            "  mean_loss: 2.8249897956848145\n",
            "  compute_time {\n",
            "    seconds: 1722433142\n",
            "    nanos: 309721545\n",
            "  }\n",
            "}\n",
            "snapshots {\n",
            "  step: 27\n",
            "  mean_loss: 2.342146396636963\n",
            "  compute_time {\n",
            "    seconds: 1722433153\n",
            "    nanos: 679626457\n",
            "  }\n",
            "}\n",
            "snapshots {\n",
            "  step: 28\n",
            "  mean_loss: 2.0811514854431152\n",
            "  compute_time {\n",
            "    seconds: 1722433162\n",
            "    nanos: 847303510\n",
            "  }\n",
            "}\n",
            "snapshots {\n",
            "  step: 29\n",
            "  mean_loss: 1.787567138671875\n",
            "  compute_time {\n",
            "    seconds: 1722433173\n",
            "    nanos: 305706077\n",
            "  }\n",
            "}\n",
            "snapshots {\n",
            "  step: 30\n",
            "  mean_loss: 1.4466880559921265\n",
            "  compute_time {\n",
            "    seconds: 1722433181\n",
            "    nanos: 788556541\n",
            "  }\n",
            "}\n",
            "snapshots {\n",
            "  step: 31\n",
            "  mean_loss: 2.2685232162475586\n",
            "  compute_time {\n",
            "    seconds: 1722433192\n",
            "    nanos: 446235232\n",
            "  }\n",
            "}\n",
            "snapshots {\n",
            "  step: 32\n",
            "  mean_loss: 1.4742239713668823\n",
            "  compute_time {\n",
            "    seconds: 1722433209\n",
            "    nanos: 562426473\n",
            "  }\n",
            "}\n",
            "snapshots {\n",
            "  step: 33\n",
            "  mean_loss: 2.368769884109497\n",
            "  compute_time {\n",
            "    seconds: 1722433223\n",
            "    nanos: 855333999\n",
            "  }\n",
            "}\n",
            "snapshots {\n",
            "  step: 34\n",
            "  mean_loss: 1.5331671237945557\n",
            "  compute_time {\n",
            "    seconds: 1722433232\n",
            "    nanos: 208684762\n",
            "  }\n",
            "}\n",
            "snapshots {\n",
            "  step: 35\n",
            "  mean_loss: 1.3632054328918457\n",
            "  compute_time {\n",
            "    seconds: 1722433242\n",
            "    nanos: 510190387\n",
            "  }\n",
            "}\n",
            "snapshots {\n",
            "  step: 36\n",
            "  mean_loss: 1.2075436115264893\n",
            "  compute_time {\n",
            "    seconds: 1722433250\n",
            "    nanos: 455019971\n",
            "  }\n",
            "}\n",
            "snapshots {\n",
            "  step: 37\n",
            "  mean_loss: 1.1791330575942993\n",
            "  compute_time {\n",
            "    seconds: 1722433259\n",
            "    nanos: 702136663\n",
            "  }\n",
            "}\n",
            "snapshots {\n",
            "  step: 38\n",
            "  mean_loss: 1.6824772357940674\n",
            "  compute_time {\n",
            "    seconds: 1722433272\n",
            "    nanos: 269321209\n",
            "  }\n",
            "}\n",
            "snapshots {\n",
            "  step: 39\n",
            "  mean_loss: 1.6238088607788086\n",
            "  compute_time {\n",
            "    seconds: 1722433285\n",
            "    nanos: 500943116\n",
            "  }\n",
            "}\n",
            "snapshots {\n",
            "  step: 40\n",
            "  mean_loss: 2.268608570098877\n",
            "  compute_time {\n",
            "    seconds: 1722433301\n",
            "    nanos: 173510732\n",
            "  }\n",
            "}\n",
            "snapshots {\n",
            "  step: 41\n",
            "  mean_loss: 0.8285760879516602\n",
            "  compute_time {\n",
            "    seconds: 1722433314\n",
            "    nanos: 455294071\n",
            "  }\n",
            "}\n",
            "snapshots {\n",
            "  step: 42\n",
            "  mean_loss: 1.133143663406372\n",
            "  compute_time {\n",
            "    seconds: 1722433365\n",
            "    nanos: 196102761\n",
            "  }\n",
            "}\n",
            "snapshots {\n",
            "  step: 43\n",
            "  mean_loss: 0.8204387426376343\n",
            "  compute_time {\n",
            "    seconds: 1722433385\n",
            "    nanos: 281389735\n",
            "  }\n",
            "}\n",
            "snapshots {\n",
            "  step: 44\n",
            "  mean_loss: 0.45435142517089844\n",
            "  compute_time {\n",
            "    seconds: 1722433394\n",
            "    nanos: 540247989\n",
            "  }\n",
            "}\n",
            "snapshots {\n",
            "  step: 45\n",
            "  mean_loss: 0.9276720881462097\n",
            "  compute_time {\n",
            "    seconds: 1722433426\n",
            "    nanos: 609825027\n",
            "  }\n",
            "}\n",
            "snapshots {\n",
            "  step: 46\n",
            "  mean_loss: 0.8883109092712402\n",
            "  compute_time {\n",
            "    seconds: 1722433451\n",
            "    nanos: 160370942\n",
            "  }\n",
            "}\n",
            "snapshots {\n",
            "  step: 47\n",
            "  mean_loss: 2.3508315086364746\n",
            "  compute_time {\n",
            "    seconds: 1722433468\n",
            "    nanos: 70127010\n",
            "  }\n",
            "}\n",
            "snapshots {\n",
            "  step: 48\n",
            "  mean_loss: 0.44269266724586487\n",
            "  compute_time {\n",
            "    seconds: 1722433483\n",
            "    nanos: 814458450\n",
            "  }\n",
            "}\n",
            "snapshots {\n",
            "  step: 49\n",
            "  mean_loss: 0.28841930627822876\n",
            "  compute_time {\n",
            "    seconds: 1722433495\n",
            "    nanos: 995685175\n",
            "  }\n",
            "}\n",
            "snapshots {\n",
            "  step: 50\n",
            "  mean_loss: 0.5395838618278503\n",
            "  compute_time {\n",
            "    seconds: 1722433515\n",
            "    nanos: 970127461\n",
            "  }\n",
            "}\n",
            "snapshots {\n",
            "  step: 51\n",
            "  mean_loss: 0.4493632912635803\n",
            "  compute_time {\n",
            "    seconds: 1722433539\n",
            "    nanos: 907985152\n",
            "  }\n",
            "}\n",
            "snapshots {\n",
            "  step: 52\n",
            "  mean_loss: 0.9080483317375183\n",
            "  compute_time {\n",
            "    seconds: 1722433548\n",
            "    nanos: 988507861\n",
            "  }\n",
            "}\n",
            "snapshots {\n",
            "  step: 53\n",
            "  mean_loss: 1.6800291538238525\n",
            "  compute_time {\n",
            "    seconds: 1722433558\n",
            "    nanos: 268174827\n",
            "  }\n",
            "}\n",
            "snapshots {\n",
            "  step: 54\n",
            "  mean_loss: 0.5490502715110779\n",
            "  compute_time {\n",
            "    seconds: 1722433579\n",
            "    nanos: 13475531\n",
            "  }\n",
            "}\n",
            "snapshots {\n",
            "  step: 55\n",
            "  mean_loss: 2.0514397621154785\n",
            "  compute_time {\n",
            "    seconds: 1722433613\n",
            "    nanos: 849539759\n",
            "  }\n",
            "}\n",
            "snapshots {\n",
            "  step: 56\n",
            "  mean_loss: 1.3817421197891235\n",
            "  compute_time {\n",
            "    seconds: 1722433633\n",
            "    nanos: 612828402\n",
            "  }\n",
            "}\n",
            "snapshots {\n",
            "  step: 57\n",
            "  mean_loss: 0.6109309196472168\n",
            "  compute_time {\n",
            "    seconds: 1722433653\n",
            "    nanos: 240696002\n",
            "  }\n",
            "}\n",
            "snapshots {\n",
            "  step: 58\n",
            "  mean_loss: 1.4139325618743896\n",
            "  compute_time {\n",
            "    seconds: 1722433671\n",
            "    nanos: 22612242\n",
            "  }\n",
            "}\n",
            "snapshots {\n",
            "  step: 59\n",
            "  mean_loss: 0.1913750320672989\n",
            "  compute_time {\n",
            "    seconds: 1722433690\n",
            "    nanos: 501127808\n",
            "  }\n",
            "}\n",
            "snapshots {\n",
            "  step: 60\n",
            "  epoch: 1\n",
            "  mean_loss: 1.2490923404693604\n",
            "  compute_time {\n",
            "    seconds: 1722433714\n",
            "    nanos: 44692803\n",
            "  }\n",
            "}\n",
            "snapshots {\n",
            "  step: 61\n",
            "  epoch: 1\n",
            "  mean_loss: 0.11827720701694489\n",
            "  compute_time {\n",
            "    seconds: 1722433719\n",
            "    nanos: 395928347\n",
            "  }\n",
            "}\n",
            "snapshots {\n",
            "  step: 62\n",
            "  epoch: 1\n",
            "  mean_loss: 0.47001028060913086\n",
            "  compute_time {\n",
            "    seconds: 1722433729\n",
            "    nanos: 403937733\n",
            "  }\n",
            "}\n",
            "snapshots {\n",
            "  step: 63\n",
            "  epoch: 1\n",
            "  mean_loss: 0.17798762023448944\n",
            "  compute_time {\n",
            "    seconds: 1722433741\n",
            "    nanos: 960827986\n",
            "  }\n",
            "}\n",
            "snapshots {\n",
            "  step: 64\n",
            "  epoch: 1\n",
            "  mean_loss: 0.5434823632240295\n",
            "  compute_time {\n",
            "    seconds: 1722433763\n",
            "    nanos: 604921798\n",
            "  }\n",
            "}\n",
            "snapshots {\n",
            "  step: 65\n",
            "  epoch: 1\n",
            "  mean_loss: 0.5822136998176575\n",
            "  compute_time {\n",
            "    seconds: 1722433774\n",
            "    nanos: 239121972\n",
            "  }\n",
            "}\n",
            "snapshots {\n",
            "  step: 66\n",
            "  epoch: 1\n",
            "  mean_loss: 0.19209258258342743\n",
            "  compute_time {\n",
            "    seconds: 1722433784\n",
            "    nanos: 686758663\n",
            "  }\n",
            "}\n",
            "snapshots {\n",
            "  step: 67\n",
            "  epoch: 1\n",
            "  mean_loss: 0.31521397829055786\n",
            "  compute_time {\n",
            "    seconds: 1722433794\n",
            "    nanos: 361758994\n",
            "  }\n",
            "}\n",
            "snapshots {\n",
            "  step: 68\n",
            "  epoch: 1\n",
            "  mean_loss: 0.22614188492298126\n",
            "  compute_time {\n",
            "    seconds: 1722433822\n",
            "    nanos: 651039942\n",
            "  }\n",
            "}\n",
            "snapshots {\n",
            "  step: 69\n",
            "  epoch: 1\n",
            "  mean_loss: 0.33729442954063416\n",
            "  compute_time {\n",
            "    seconds: 1722433846\n",
            "    nanos: 194406838\n",
            "  }\n",
            "}\n",
            "snapshots {\n",
            "  step: 70\n",
            "  epoch: 1\n",
            "  mean_loss: 0.5085403323173523\n",
            "  compute_time {\n",
            "    seconds: 1722433863\n",
            "    nanos: 450450501\n",
            "  }\n",
            "}\n",
            "snapshots {\n",
            "  step: 71\n",
            "  epoch: 1\n",
            "  mean_loss: 0.013187932781875134\n",
            "  compute_time {\n",
            "    seconds: 1722433884\n",
            "    nanos: 836241273\n",
            "  }\n",
            "}\n",
            "snapshots {\n",
            "  step: 72\n",
            "  epoch: 1\n",
            "  mean_loss: 1.0014586448669434\n",
            "  compute_time {\n",
            "    seconds: 1722433895\n",
            "    nanos: 618546160\n",
            "  }\n",
            "}\n",
            "snapshots {\n",
            "  step: 73\n",
            "  epoch: 1\n",
            "  mean_loss: 0.5655689835548401\n",
            "  compute_time {\n",
            "    seconds: 1722433904\n",
            "    nanos: 84409854\n",
            "  }\n",
            "}\n",
            "snapshots {\n",
            "  step: 74\n",
            "  epoch: 1\n",
            "  mean_loss: 0.7388776540756226\n",
            "  compute_time {\n",
            "    seconds: 1722433917\n",
            "    nanos: 278318275\n",
            "  }\n",
            "}\n",
            "snapshots {\n",
            "  step: 75\n",
            "  epoch: 1\n",
            "  mean_loss: 0.23865917325019836\n",
            "  compute_time {\n",
            "    seconds: 1722433932\n",
            "    nanos: 585042077\n",
            "  }\n",
            "}\n",
            "snapshots {\n",
            "  step: 76\n",
            "  epoch: 1\n",
            "  mean_loss: 0.5779405832290649\n",
            "  compute_time {\n",
            "    seconds: 1722433948\n",
            "    nanos: 985263379\n",
            "  }\n",
            "}\n",
            "snapshots {\n",
            "  step: 77\n",
            "  epoch: 1\n",
            "  mean_loss: 0.0721517875790596\n",
            "  compute_time {\n",
            "    seconds: 1722433953\n",
            "    nanos: 765104390\n",
            "  }\n",
            "}\n",
            "snapshots {\n",
            "  step: 78\n",
            "  epoch: 1\n",
            "  mean_loss: 0.5522367358207703\n",
            "  compute_time {\n",
            "    seconds: 1722433972\n",
            "    nanos: 569162821\n",
            "  }\n",
            "}\n",
            "snapshots {\n",
            "  step: 79\n",
            "  epoch: 1\n",
            "  mean_loss: 0.7236301898956299\n",
            "  compute_time {\n",
            "    seconds: 1722433993\n",
            "    nanos: 992042655\n",
            "  }\n",
            "}\n",
            "tuned_model: \"tunedModels/categoryclassifier31072024a\"\n",
            "\n"
          ]
        }
      ],
      "source": [
        "print(operation.metadata)"
      ]
    },
    {
      "cell_type": "code",
      "execution_count": null,
      "metadata": {
        "id": "SOUowIv1HgSE"
      },
      "outputs": [],
      "source": [
        "# import time\n",
        "\n",
        "# for status in operation.wait_bar():\n",
        "#   time.sleep(30)"
      ]
    },
    {
      "cell_type": "markdown",
      "metadata": {
        "id": "rkoQTXb1vSBC"
      },
      "source": [
        "## Evaluate model"
      ]
    },
    {
      "cell_type": "code",
      "execution_count": null,
      "metadata": {
        "id": "zO0YcuSyxydZ"
      },
      "outputs": [],
      "source": [
        "model = genai.GenerativeModel(model_name=f'tunedModels/categoryclassifier31072024')"
      ]
    },
    {
      "cell_type": "code",
      "execution_count": null,
      "metadata": {
        "id": "UwGrrj6hS_x2",
        "outputId": "4e4cb8f1-d202-4c62-cfc5-5aa6da248c88",
        "colab": {
          "base_uri": "https://localhost:8080/",
          "height": 36
        }
      },
      "outputs": [
        {
          "output_type": "execute_result",
          "data": {
            "text/plain": [
              "'News'"
            ],
            "application/vnd.google.colaboratory.intrinsic+json": {
              "type": "string"
            }
          },
          "metadata": {},
          "execution_count": 83
        }
      ],
      "source": [
        "result = model.generate_content('Write a short summary of the latest developments in the war in Ukraine.')\n",
        "result.text"
      ]
    },
    {
      "cell_type": "code",
      "execution_count": null,
      "metadata": {
        "id": "YSNB2zjTx5SZ",
        "outputId": "735b46be-2352-4c7e-c718-298d4941a691",
        "colab": {
          "base_uri": "https://localhost:8080/",
          "height": 36
        }
      },
      "outputs": [
        {
          "output_type": "execute_result",
          "data": {
            "text/plain": [
              "'Music and Audio'"
            ],
            "application/vnd.google.colaboratory.intrinsic+json": {
              "type": "string"
            }
          },
          "metadata": {},
          "execution_count": 84
        }
      ],
      "source": [
        "result = model.generate_content('How to convert text to speech for my audio book?')\n",
        "result.text"
      ]
    },
    {
      "cell_type": "code",
      "execution_count": null,
      "metadata": {
        "id": "Y2YVO-m0Ut9H",
        "outputId": "46fd0347-4a1a-420a-c347-3c3799738a60",
        "colab": {
          "base_uri": "https://localhost:8080/",
          "height": 36
        }
      },
      "outputs": [
        {
          "output_type": "execute_result",
          "data": {
            "text/plain": [
              "'Programming and Development'"
            ],
            "application/vnd.google.colaboratory.intrinsic+json": {
              "type": "string"
            }
          },
          "metadata": {},
          "execution_count": 85
        }
      ],
      "source": [
        "result = model.generate_content('I need help integrating the Stripe API into my Node.js application.')\n",
        "result.text"
      ]
    },
    {
      "cell_type": "code",
      "execution_count": null,
      "metadata": {
        "id": "h2MkTR0uTb6U",
        "outputId": "138da566-e49a-4b76-fb7e-999a669fee54",
        "colab": {
          "base_uri": "https://localhost:8080/",
          "height": 36
        }
      },
      "outputs": [
        {
          "output_type": "execute_result",
          "data": {
            "text/plain": [
              "'Legal and Professional Services'"
            ],
            "application/vnd.google.colaboratory.intrinsic+json": {
              "type": "string"
            }
          },
          "metadata": {},
          "execution_count": 86
        }
      ],
      "source": [
        "result = model.generate_content('Can you help me generate a lease agreement for my apartment?')\n",
        "result.text"
      ]
    },
    {
      "cell_type": "code",
      "source": [
        "result = model.generate_content('Can you create a news story about the latest advancements in artificial intelligence?')\n",
        "result.text\n"
      ],
      "metadata": {
        "colab": {
          "base_uri": "https://localhost:8080/",
          "height": 36
        },
        "id": "N7JQeyaVKUD3",
        "outputId": "bafd2167-2e92-4544-aa45-a687f24a1641"
      },
      "execution_count": null,
      "outputs": [
        {
          "output_type": "execute_result",
          "data": {
            "text/plain": [
              "'Media and Journalism'"
            ],
            "application/vnd.google.colaboratory.intrinsic+json": {
              "type": "string"
            }
          },
          "metadata": {},
          "execution_count": 87
        }
      ]
    },
    {
      "cell_type": "code",
      "source": [
        "result = model.generate_content('Generate an email to potential investors outlining our business plan.')\n",
        "result.text\n"
      ],
      "metadata": {
        "colab": {
          "base_uri": "https://localhost:8080/",
          "height": 36
        },
        "id": "SxMPRyMWKuQR",
        "outputId": "d3a4273c-4696-4b71-b0dd-17f87fe35b21"
      },
      "execution_count": null,
      "outputs": [
        {
          "output_type": "execute_result",
          "data": {
            "text/plain": [
              "'Business and Productivity'"
            ],
            "application/vnd.google.colaboratory.intrinsic+json": {
              "type": "string"
            }
          },
          "metadata": {},
          "execution_count": 88
        }
      ]
    },
    {
      "cell_type": "markdown",
      "source": [
        "# Evaluation with Langsmith"
      ],
      "metadata": {
        "id": "mWf5EAKaE0NO"
      }
    },
    {
      "cell_type": "code",
      "source": [
        "!pip install -U langsmith"
      ],
      "metadata": {
        "colab": {
          "base_uri": "https://localhost:8080/"
        },
        "id": "U4hz-h1FAprx",
        "outputId": "0d05ee3c-3854-4af5-b730-351ba0b0783d"
      },
      "execution_count": null,
      "outputs": [
        {
          "output_type": "stream",
          "name": "stdout",
          "text": [
            "Collecting langsmith\n",
            "  Downloading langsmith-0.1.94-py3-none-any.whl.metadata (13 kB)\n",
            "Collecting orjson<4.0.0,>=3.9.14 (from langsmith)\n",
            "  Downloading orjson-3.10.6-cp310-cp310-manylinux_2_17_x86_64.manylinux2014_x86_64.whl.metadata (50 kB)\n",
            "\u001b[2K     \u001b[90m━━━━━━━━━━━━━━━━━━━━━━━━━━━━━━━━━━━━━━━━\u001b[0m \u001b[32m50.4/50.4 kB\u001b[0m \u001b[31m4.0 MB/s\u001b[0m eta \u001b[36m0:00:00\u001b[0m\n",
            "\u001b[?25hRequirement already satisfied: pydantic<3,>=1 in /usr/local/lib/python3.10/dist-packages (from langsmith) (2.8.2)\n",
            "Requirement already satisfied: requests<3,>=2 in /usr/local/lib/python3.10/dist-packages (from langsmith) (2.31.0)\n",
            "Requirement already satisfied: annotated-types>=0.4.0 in /usr/local/lib/python3.10/dist-packages (from pydantic<3,>=1->langsmith) (0.7.0)\n",
            "Requirement already satisfied: pydantic-core==2.20.1 in /usr/local/lib/python3.10/dist-packages (from pydantic<3,>=1->langsmith) (2.20.1)\n",
            "Requirement already satisfied: typing-extensions>=4.6.1 in /usr/local/lib/python3.10/dist-packages (from pydantic<3,>=1->langsmith) (4.12.2)\n",
            "Requirement already satisfied: charset-normalizer<4,>=2 in /usr/local/lib/python3.10/dist-packages (from requests<3,>=2->langsmith) (3.3.2)\n",
            "Requirement already satisfied: idna<4,>=2.5 in /usr/local/lib/python3.10/dist-packages (from requests<3,>=2->langsmith) (3.7)\n",
            "Requirement already satisfied: urllib3<3,>=1.21.1 in /usr/local/lib/python3.10/dist-packages (from requests<3,>=2->langsmith) (2.0.7)\n",
            "Requirement already satisfied: certifi>=2017.4.17 in /usr/local/lib/python3.10/dist-packages (from requests<3,>=2->langsmith) (2024.7.4)\n",
            "Downloading langsmith-0.1.94-py3-none-any.whl (139 kB)\n",
            "\u001b[2K   \u001b[90m━━━━━━━━━━━━━━━━━━━━━━━━━━━━━━━━━━━━━━━━\u001b[0m \u001b[32m139.9/139.9 kB\u001b[0m \u001b[31m11.0 MB/s\u001b[0m eta \u001b[36m0:00:00\u001b[0m\n",
            "\u001b[?25hDownloading orjson-3.10.6-cp310-cp310-manylinux_2_17_x86_64.manylinux2014_x86_64.whl (141 kB)\n",
            "\u001b[2K   \u001b[90m━━━━━━━━━━━━━━━━━━━━━━━━━━━━━━━━━━━━━━━━\u001b[0m \u001b[32m141.1/141.1 kB\u001b[0m \u001b[31m10.3 MB/s\u001b[0m eta \u001b[36m0:00:00\u001b[0m\n",
            "\u001b[?25hInstalling collected packages: orjson, langsmith\n",
            "Successfully installed langsmith-0.1.94 orjson-3.10.6\n"
          ]
        }
      ]
    },
    {
      "cell_type": "code",
      "source": [
        "import os\n",
        "os.environ[\"LANGCHAIN_API_KEY\"]=\"\"\n",
        "os.environ[\"LANGCHAIN_TRACING_V2\"] = \"true\"\n",
        "os.environ[\"LANGCHAIN_ENDPOINT\"] = \"https://api.smith.langchain.com\"\n",
        "os.environ[\"LANGCHAIN_PROJECT\"] = \"evaluation-CategoryClassifier\""
      ],
      "metadata": {
        "id": "wEDUf9rVE7j4"
      },
      "execution_count": null,
      "outputs": []
    },
    {
      "cell_type": "code",
      "source": [
        "from langsmith.schemas import Example, Run\n",
        "\n",
        "def correct_label(root_run: Run, example: Example) -> dict:\n",
        "    score = root_run.outputs.get(\"output\") == example.outputs.get(\"label\")\n",
        "    return {\"score\": int(score), \"key\": \"correct_label\"}"
      ],
      "metadata": {
        "id": "3M-zLnoHF0Yt"
      },
      "execution_count": null,
      "outputs": []
    },
    {
      "cell_type": "code",
      "source": [
        "from langsmith import traceable\n",
        "import time\n",
        "@traceable(\n",
        "    run_type=\"llm\",\n",
        "    name=\"CategoryClassifier\",\n",
        "    project_name=\"evaluation-CategoryClassifier\"\n",
        ")\n",
        "def call_gemini(message):\n",
        "    time.sleep(20)\n",
        "    model = genai.GenerativeModel(model_name=f'tunedModels/categoryclassifier31072024')\n",
        "    response = model.generate_content(message)\n",
        "    return response.text"
      ],
      "metadata": {
        "id": "KFOKiIV_FUaA"
      },
      "execution_count": null,
      "outputs": []
    },
    {
      "cell_type": "code",
      "source": [
        "from langsmith.evaluation import evaluate\n",
        "\n",
        "dataset_name = \"validation-small\"\n",
        "\n",
        "results = evaluate(\n",
        "    lambda inputs: call_gemini(inputs[\"input\"]),\n",
        "    data=dataset_name,\n",
        "    evaluators=[correct_label],\n",
        "    experiment_prefix=\"Category Classifier 1\",\n",
        "    description=\"Testing the baseline system.\",\n",
        ")"
      ],
      "metadata": {
        "colab": {
          "base_uri": "https://localhost:8080/",
          "height": 178,
          "referenced_widgets": [
            "c7579c687f22432392c899fd7cc97fd3",
            "cd248ccab11d47b28ef9c94b60ac56fd",
            "46b2a9b06de7472895ef6863c5ed1efa",
            "d878f71cc18f4627806738f037bd0f31",
            "cdc492d7a3af4cecb8c9fb0ad0700c7e",
            "949ab3f3bdbc4152ab96d1543ff52d4d",
            "64748366084848189d4a146b272ea329",
            "80c8edb5422c4abe895628893fd9ec68",
            "e03bde63a569480ab2f52738b45b1845",
            "fb016d00ebd7443ea9530f7dc7cba926",
            "c36cdabf58084a93ba9f34c298e9e542"
          ]
        },
        "id": "rS24amK4F54O",
        "outputId": "6df9bb2b-8639-4090-bd61-07a2111986e4"
      },
      "execution_count": null,
      "outputs": [
        {
          "output_type": "stream",
          "name": "stdout",
          "text": [
            "View the evaluation results for experiment: 'Category Classifier 1-0ea0a59d' at:\n",
            "https://smith.langchain.com/o/1853d09d-a4bc-5061-ba35-467b757dc359/datasets/567aa36d-17f8-46ce-812f-208e33911acc/compare?selectedSessions=edade47c-b728-42a5-b4a9-6788f1e33c4f\n",
            "\n",
            "\n"
          ]
        },
        {
          "output_type": "display_data",
          "data": {
            "text/plain": [
              "0it [00:00, ?it/s]"
            ],
            "application/vnd.jupyter.widget-view+json": {
              "version_major": 2,
              "version_minor": 0,
              "model_id": "c7579c687f22432392c899fd7cc97fd3"
            }
          },
          "metadata": {}
        },
        {
          "output_type": "stream",
          "name": "stderr",
          "text": [
            "ERROR:langsmith.evaluation._runner:Error running target function: 429 Resource has been exhausted (e.g. check quota).\n",
            "ERROR:langsmith.evaluation._runner:Error running target function: 429 Resource has been exhausted (e.g. check quota).\n"
          ]
        }
      ]
    }
  ],
  "metadata": {
    "colab": {
      "provenance": []
    },
    "kernelspec": {
      "display_name": "Python 3",
      "name": "python3"
    },
    "widgets": {
      "application/vnd.jupyter.widget-state+json": {
        "c7579c687f22432392c899fd7cc97fd3": {
          "model_module": "@jupyter-widgets/controls",
          "model_name": "HBoxModel",
          "model_module_version": "1.5.0",
          "state": {
            "_dom_classes": [],
            "_model_module": "@jupyter-widgets/controls",
            "_model_module_version": "1.5.0",
            "_model_name": "HBoxModel",
            "_view_count": null,
            "_view_module": "@jupyter-widgets/controls",
            "_view_module_version": "1.5.0",
            "_view_name": "HBoxView",
            "box_style": "",
            "children": [
              "IPY_MODEL_cd248ccab11d47b28ef9c94b60ac56fd",
              "IPY_MODEL_46b2a9b06de7472895ef6863c5ed1efa",
              "IPY_MODEL_d878f71cc18f4627806738f037bd0f31"
            ],
            "layout": "IPY_MODEL_cdc492d7a3af4cecb8c9fb0ad0700c7e"
          }
        },
        "cd248ccab11d47b28ef9c94b60ac56fd": {
          "model_module": "@jupyter-widgets/controls",
          "model_name": "HTMLModel",
          "model_module_version": "1.5.0",
          "state": {
            "_dom_classes": [],
            "_model_module": "@jupyter-widgets/controls",
            "_model_module_version": "1.5.0",
            "_model_name": "HTMLModel",
            "_view_count": null,
            "_view_module": "@jupyter-widgets/controls",
            "_view_module_version": "1.5.0",
            "_view_name": "HTMLView",
            "description": "",
            "description_tooltip": null,
            "layout": "IPY_MODEL_949ab3f3bdbc4152ab96d1543ff52d4d",
            "placeholder": "​",
            "style": "IPY_MODEL_64748366084848189d4a146b272ea329",
            "value": ""
          }
        },
        "46b2a9b06de7472895ef6863c5ed1efa": {
          "model_module": "@jupyter-widgets/controls",
          "model_name": "FloatProgressModel",
          "model_module_version": "1.5.0",
          "state": {
            "_dom_classes": [],
            "_model_module": "@jupyter-widgets/controls",
            "_model_module_version": "1.5.0",
            "_model_name": "FloatProgressModel",
            "_view_count": null,
            "_view_module": "@jupyter-widgets/controls",
            "_view_module_version": "1.5.0",
            "_view_name": "ProgressView",
            "bar_style": "success",
            "description": "",
            "description_tooltip": null,
            "layout": "IPY_MODEL_80c8edb5422c4abe895628893fd9ec68",
            "max": 1,
            "min": 0,
            "orientation": "horizontal",
            "style": "IPY_MODEL_e03bde63a569480ab2f52738b45b1845",
            "value": 1
          }
        },
        "d878f71cc18f4627806738f037bd0f31": {
          "model_module": "@jupyter-widgets/controls",
          "model_name": "HTMLModel",
          "model_module_version": "1.5.0",
          "state": {
            "_dom_classes": [],
            "_model_module": "@jupyter-widgets/controls",
            "_model_module_version": "1.5.0",
            "_model_name": "HTMLModel",
            "_view_count": null,
            "_view_module": "@jupyter-widgets/controls",
            "_view_module_version": "1.5.0",
            "_view_name": "HTMLView",
            "description": "",
            "description_tooltip": null,
            "layout": "IPY_MODEL_fb016d00ebd7443ea9530f7dc7cba926",
            "placeholder": "​",
            "style": "IPY_MODEL_c36cdabf58084a93ba9f34c298e9e542",
            "value": " 19/? [01:26&lt;00:00,  1.25it/s]"
          }
        },
        "cdc492d7a3af4cecb8c9fb0ad0700c7e": {
          "model_module": "@jupyter-widgets/base",
          "model_name": "LayoutModel",
          "model_module_version": "1.2.0",
          "state": {
            "_model_module": "@jupyter-widgets/base",
            "_model_module_version": "1.2.0",
            "_model_name": "LayoutModel",
            "_view_count": null,
            "_view_module": "@jupyter-widgets/base",
            "_view_module_version": "1.2.0",
            "_view_name": "LayoutView",
            "align_content": null,
            "align_items": null,
            "align_self": null,
            "border": null,
            "bottom": null,
            "display": null,
            "flex": null,
            "flex_flow": null,
            "grid_area": null,
            "grid_auto_columns": null,
            "grid_auto_flow": null,
            "grid_auto_rows": null,
            "grid_column": null,
            "grid_gap": null,
            "grid_row": null,
            "grid_template_areas": null,
            "grid_template_columns": null,
            "grid_template_rows": null,
            "height": null,
            "justify_content": null,
            "justify_items": null,
            "left": null,
            "margin": null,
            "max_height": null,
            "max_width": null,
            "min_height": null,
            "min_width": null,
            "object_fit": null,
            "object_position": null,
            "order": null,
            "overflow": null,
            "overflow_x": null,
            "overflow_y": null,
            "padding": null,
            "right": null,
            "top": null,
            "visibility": null,
            "width": null
          }
        },
        "949ab3f3bdbc4152ab96d1543ff52d4d": {
          "model_module": "@jupyter-widgets/base",
          "model_name": "LayoutModel",
          "model_module_version": "1.2.0",
          "state": {
            "_model_module": "@jupyter-widgets/base",
            "_model_module_version": "1.2.0",
            "_model_name": "LayoutModel",
            "_view_count": null,
            "_view_module": "@jupyter-widgets/base",
            "_view_module_version": "1.2.0",
            "_view_name": "LayoutView",
            "align_content": null,
            "align_items": null,
            "align_self": null,
            "border": null,
            "bottom": null,
            "display": null,
            "flex": null,
            "flex_flow": null,
            "grid_area": null,
            "grid_auto_columns": null,
            "grid_auto_flow": null,
            "grid_auto_rows": null,
            "grid_column": null,
            "grid_gap": null,
            "grid_row": null,
            "grid_template_areas": null,
            "grid_template_columns": null,
            "grid_template_rows": null,
            "height": null,
            "justify_content": null,
            "justify_items": null,
            "left": null,
            "margin": null,
            "max_height": null,
            "max_width": null,
            "min_height": null,
            "min_width": null,
            "object_fit": null,
            "object_position": null,
            "order": null,
            "overflow": null,
            "overflow_x": null,
            "overflow_y": null,
            "padding": null,
            "right": null,
            "top": null,
            "visibility": null,
            "width": null
          }
        },
        "64748366084848189d4a146b272ea329": {
          "model_module": "@jupyter-widgets/controls",
          "model_name": "DescriptionStyleModel",
          "model_module_version": "1.5.0",
          "state": {
            "_model_module": "@jupyter-widgets/controls",
            "_model_module_version": "1.5.0",
            "_model_name": "DescriptionStyleModel",
            "_view_count": null,
            "_view_module": "@jupyter-widgets/base",
            "_view_module_version": "1.2.0",
            "_view_name": "StyleView",
            "description_width": ""
          }
        },
        "80c8edb5422c4abe895628893fd9ec68": {
          "model_module": "@jupyter-widgets/base",
          "model_name": "LayoutModel",
          "model_module_version": "1.2.0",
          "state": {
            "_model_module": "@jupyter-widgets/base",
            "_model_module_version": "1.2.0",
            "_model_name": "LayoutModel",
            "_view_count": null,
            "_view_module": "@jupyter-widgets/base",
            "_view_module_version": "1.2.0",
            "_view_name": "LayoutView",
            "align_content": null,
            "align_items": null,
            "align_self": null,
            "border": null,
            "bottom": null,
            "display": null,
            "flex": null,
            "flex_flow": null,
            "grid_area": null,
            "grid_auto_columns": null,
            "grid_auto_flow": null,
            "grid_auto_rows": null,
            "grid_column": null,
            "grid_gap": null,
            "grid_row": null,
            "grid_template_areas": null,
            "grid_template_columns": null,
            "grid_template_rows": null,
            "height": null,
            "justify_content": null,
            "justify_items": null,
            "left": null,
            "margin": null,
            "max_height": null,
            "max_width": null,
            "min_height": null,
            "min_width": null,
            "object_fit": null,
            "object_position": null,
            "order": null,
            "overflow": null,
            "overflow_x": null,
            "overflow_y": null,
            "padding": null,
            "right": null,
            "top": null,
            "visibility": null,
            "width": "20px"
          }
        },
        "e03bde63a569480ab2f52738b45b1845": {
          "model_module": "@jupyter-widgets/controls",
          "model_name": "ProgressStyleModel",
          "model_module_version": "1.5.0",
          "state": {
            "_model_module": "@jupyter-widgets/controls",
            "_model_module_version": "1.5.0",
            "_model_name": "ProgressStyleModel",
            "_view_count": null,
            "_view_module": "@jupyter-widgets/base",
            "_view_module_version": "1.2.0",
            "_view_name": "StyleView",
            "bar_color": null,
            "description_width": ""
          }
        },
        "fb016d00ebd7443ea9530f7dc7cba926": {
          "model_module": "@jupyter-widgets/base",
          "model_name": "LayoutModel",
          "model_module_version": "1.2.0",
          "state": {
            "_model_module": "@jupyter-widgets/base",
            "_model_module_version": "1.2.0",
            "_model_name": "LayoutModel",
            "_view_count": null,
            "_view_module": "@jupyter-widgets/base",
            "_view_module_version": "1.2.0",
            "_view_name": "LayoutView",
            "align_content": null,
            "align_items": null,
            "align_self": null,
            "border": null,
            "bottom": null,
            "display": null,
            "flex": null,
            "flex_flow": null,
            "grid_area": null,
            "grid_auto_columns": null,
            "grid_auto_flow": null,
            "grid_auto_rows": null,
            "grid_column": null,
            "grid_gap": null,
            "grid_row": null,
            "grid_template_areas": null,
            "grid_template_columns": null,
            "grid_template_rows": null,
            "height": null,
            "justify_content": null,
            "justify_items": null,
            "left": null,
            "margin": null,
            "max_height": null,
            "max_width": null,
            "min_height": null,
            "min_width": null,
            "object_fit": null,
            "object_position": null,
            "order": null,
            "overflow": null,
            "overflow_x": null,
            "overflow_y": null,
            "padding": null,
            "right": null,
            "top": null,
            "visibility": null,
            "width": null
          }
        },
        "c36cdabf58084a93ba9f34c298e9e542": {
          "model_module": "@jupyter-widgets/controls",
          "model_name": "DescriptionStyleModel",
          "model_module_version": "1.5.0",
          "state": {
            "_model_module": "@jupyter-widgets/controls",
            "_model_module_version": "1.5.0",
            "_model_name": "DescriptionStyleModel",
            "_view_count": null,
            "_view_module": "@jupyter-widgets/base",
            "_view_module_version": "1.2.0",
            "_view_name": "StyleView",
            "description_width": ""
          }
        }
      }
    }
  },
  "nbformat": 4,
  "nbformat_minor": 0
}